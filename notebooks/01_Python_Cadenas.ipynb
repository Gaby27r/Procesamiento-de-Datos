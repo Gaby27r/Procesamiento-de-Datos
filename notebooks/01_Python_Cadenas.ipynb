{
  "cells": [
    {
      "cell_type": "markdown",
      "source": [
        "<h1>Procesamiento de Datos a Gran Escala</h1>"
      ],
      "metadata": {
        "application/vnd.databricks.v1+cell": {
          "title": "",
          "showTitle": false,
          "inputWidgets": {},
          "nuid": "c5e61d79-8f0e-4413-afff-a73698e18bb5"
        },
        "id": "R-N82ebMVkHl"
      }
    },
    {
      "cell_type": "markdown",
      "source": [
        "# Python — Cadenas\n",
        "\n",
        "- **ID:** NB-01\n",
        "- **Autor/a:** Gabriela Rojas Martínez\n",
        "- **Curso/Grupo:** Procesamiento de Datos\n",
        "- **Fecha:** 2025-08-11\n",
        "- **Descripción:** Ejercicios prácticos sobre cadenas en Python.\n",
        "- **Cómo ejecutar:** Activar entorno, instalar dependencias (`pip install -r requirements.txt`), abrir en Jupyter y ejecutar celdas en orden.\n"
      ],
      "metadata": {
        "id": "eGuWRx0lVn1t"
      }
    },
    {
      "cell_type": "markdown",
      "source": [
        "## Ejecución de actividades\n",
        "1. Abrir este cuaderno en Jupyter Notebook o Google Colab.\n",
        "2. Ejecutar las celdas en orden desde la primera hasta la última.\n",
        "3. Observar y analizar los resultados impresos en pantalla.\n",
        "\n",
        "## Instrucciones y algoritmo\n",
        "\n",
        "**Instrucciones:**\n",
        "- Practicar manipulación de cadenas en Python usando ejemplos y ejercicios guiados.\n",
        "\n",
        "**Algoritmo:**\n",
        "1. Definir variables tipo `str`.\n",
        "2. Aplicar métodos de cadenas (`upper`, `lower`, `replace`, `split`, etc.).\n",
        "3. Concatenar cadenas y formatear textos.\n",
        "4. Mostrar resultados en consola.\n"
      ],
      "metadata": {
        "id": "NXePcApZa9IV"
      }
    },
    {
      "cell_type": "markdown",
      "source": [
        "<h2>Operaciones con Cadenas</h2>"
      ],
      "metadata": {
        "application/vnd.databricks.v1+cell": {
          "title": "",
          "showTitle": false,
          "inputWidgets": {},
          "nuid": "c5c3b9b4-1a97-4151-b056-30997a3dae8e"
        },
        "id": "5PNP83bsVkHn"
      }
    },
    {
      "cell_type": "markdown",
      "source": [
        "<p><strong>¡Bienvenido!</strong> En este cuaderno aprenderás sobre operaciones con cadenas en el Lenguaje de Programación Python. Al finalizar, conocerás acerca de las operaciones con cadenas que se pueden realizar en Python como son, indexación, operaciones y secuencias de escape.</p>"
      ],
      "metadata": {
        "application/vnd.databricks.v1+cell": {
          "title": "",
          "showTitle": false,
          "inputWidgets": {},
          "nuid": "97dc7dc7-f023-468f-9901-62cf076efde0"
        },
        "id": "oIuQUUwyVkHn"
      }
    },
    {
      "cell_type": "markdown",
      "source": [
        "<h2>Tabla de Contenido</h2>\n",
        "<div class=\"alert alert-block alert-info\" style=\"margin-top: 20px\">\n",
        "    <ul>\n",
        "        <li>\n",
        "            <a href=\"#strings\">¿Qué es una cadena?</a>\n",
        "        </li>\n",
        "        <li>\n",
        "            <a href=\"#index\">Indexación</a>\n",
        "            <ul>\n",
        "                <li><a href=\"neg\">Indexación Negativa</a></li>\n",
        "                <li><a href=\"slice\">Slicing</a></li>\n",
        "                <li><a href=\"stride\">Stride</a></li>\n",
        "                <li><a href=\"concat\">Concatenar Cadenas</a></li>\n",
        "            </ul>\n",
        "        </li>\n",
        "        <li>\n",
        "            <a href=\"#escape\">Secuencias de Escape</a>\n",
        "        </li>\n",
        "        <li>\n",
        "            <a href=\"#operations\">Operaciones con Cadenas</a>\n",
        "        </li>\n",
        "        <li>\n",
        "            <a href=\"#quiz\">Exámen sobre Cadenas</a>\n",
        "        </li>\n",
        "    </ul>\n",
        "    <p>\n",
        "        Tiempo Estimado: <strong>15 min</strong>\n",
        "    </p>\n",
        "</div>\n",
        "\n",
        "<hr>"
      ],
      "metadata": {
        "application/vnd.databricks.v1+cell": {
          "title": "",
          "showTitle": false,
          "inputWidgets": {},
          "nuid": "75b418f4-38c8-4925-8c64-21588ac252dc"
        },
        "id": "yAfGQZEgVkHn"
      }
    },
    {
      "cell_type": "markdown",
      "source": [
        "<h2 id=\"strings\">¿Qué es una cadena?</h2>"
      ],
      "metadata": {
        "application/vnd.databricks.v1+cell": {
          "title": "",
          "showTitle": false,
          "inputWidgets": {},
          "nuid": "07f23fc9-4dc4-4104-82cc-32836e59e872"
        },
        "id": "snJr-uwIVkHn"
      }
    },
    {
      "cell_type": "markdown",
      "source": [
        "A continuación, se muestra una cadena entre comillas dobles."
      ],
      "metadata": {
        "application/vnd.databricks.v1+cell": {
          "title": "",
          "showTitle": false,
          "inputWidgets": {},
          "nuid": "8aa1dec4-df2a-49f7-bbe2-d49584a60608"
        },
        "id": "GsEDq79yVkHo"
      }
    },
    {
      "cell_type": "code",
      "source": [
        "# Usa las comillas dobles para definir una cadena\n",
        "\n",
        "\"Michael Jackson\""
      ],
      "metadata": {
        "application/vnd.databricks.v1+cell": {
          "title": "",
          "showTitle": false,
          "inputWidgets": {},
          "nuid": "26a4f2f6-c7b1-4274-a707-f7ddb76253af"
        },
        "id": "iQ905ZfRVkHo",
        "outputId": "eb9d9082-188a-4dcc-b3ca-11248b005981",
        "colab": {
          "base_uri": "https://localhost:8080/",
          "height": 36
        }
      },
      "outputs": [
        {
          "output_type": "execute_result",
          "data": {
            "text/plain": [
              "'Michael Jackson'"
            ],
            "application/vnd.google.colaboratory.intrinsic+json": {
              "type": "string"
            }
          },
          "metadata": {},
          "execution_count": 1
        }
      ],
      "execution_count": 1
    },
    {
      "cell_type": "markdown",
      "source": [
        "También podemos usar comillas simples:"
      ],
      "metadata": {
        "application/vnd.databricks.v1+cell": {
          "title": "",
          "showTitle": false,
          "inputWidgets": {},
          "nuid": "156897c4-37c7-4b5e-b027-832638056035"
        },
        "id": "j2UcdIEeVkHp"
      }
    },
    {
      "cell_type": "code",
      "source": [
        "# Usa comillas simples para definir una cadena\n",
        "\n",
        "'Michael Jackson'"
      ],
      "metadata": {
        "application/vnd.databricks.v1+cell": {
          "title": "",
          "showTitle": false,
          "inputWidgets": {},
          "nuid": "deb3b65e-db10-4e13-bb6e-1201355ad711"
        },
        "id": "zGJ9BR29VkHp",
        "outputId": "5a6e6d5b-3508-425a-d797-323c46707812",
        "colab": {
          "base_uri": "https://localhost:8080/",
          "height": 36
        }
      },
      "outputs": [
        {
          "output_type": "execute_result",
          "data": {
            "text/plain": [
              "'Michael Jackson'"
            ],
            "application/vnd.google.colaboratory.intrinsic+json": {
              "type": "string"
            }
          },
          "metadata": {},
          "execution_count": 2
        }
      ],
      "execution_count": 2
    },
    {
      "cell_type": "markdown",
      "source": [
        "Una cadena puede ser una combinación de espacios y dígitos:"
      ],
      "metadata": {
        "application/vnd.databricks.v1+cell": {
          "title": "",
          "showTitle": false,
          "inputWidgets": {},
          "nuid": "e5e4693c-3d5f-40fc-a7f6-01f1fb693843"
        },
        "id": "AhwzlWUAVkHp"
      }
    },
    {
      "cell_type": "code",
      "source": [
        "# Dígitos y espacios en una cadena\n",
        "\n",
        "'1 2 3 4 5 6 '"
      ],
      "metadata": {
        "application/vnd.databricks.v1+cell": {
          "title": "",
          "showTitle": false,
          "inputWidgets": {},
          "nuid": "725caefd-24ce-4660-bd0f-af6b902566bb"
        },
        "id": "DuUp8eo9VkHp",
        "outputId": "4b27abbc-6a69-4c89-c42d-f22c8ff82a57",
        "colab": {
          "base_uri": "https://localhost:8080/",
          "height": 36
        }
      },
      "outputs": [
        {
          "output_type": "execute_result",
          "data": {
            "text/plain": [
              "'1 2 3 4 5 6 '"
            ],
            "application/vnd.google.colaboratory.intrinsic+json": {
              "type": "string"
            }
          },
          "metadata": {},
          "execution_count": 3
        }
      ],
      "execution_count": 3
    },
    {
      "cell_type": "markdown",
      "source": [
        "Una cadena también puede estar formada por caracteres especiales :"
      ],
      "metadata": {
        "application/vnd.databricks.v1+cell": {
          "title": "",
          "showTitle": false,
          "inputWidgets": {},
          "nuid": "3049df74-fcb0-4d43-9d10-1c98a445be02"
        },
        "id": "8QaIO-SCVkHq"
      }
    },
    {
      "cell_type": "code",
      "source": [
        "# Caracteres especiales en una cadena\n",
        "\n",
        "'@#2_#]&*^%$'"
      ],
      "metadata": {
        "application/vnd.databricks.v1+cell": {
          "title": "",
          "showTitle": false,
          "inputWidgets": {},
          "nuid": "4b20df88-dd74-44e3-a310-5b3c27ecefab"
        },
        "id": "DQgXYfw4VkHq",
        "outputId": "6def18c8-64e4-48ba-c807-0e178d047264",
        "colab": {
          "base_uri": "https://localhost:8080/",
          "height": 36
        }
      },
      "outputs": [
        {
          "output_type": "execute_result",
          "data": {
            "text/plain": [
              "'@#2_#]&*^%$'"
            ],
            "application/vnd.google.colaboratory.intrinsic+json": {
              "type": "string"
            }
          },
          "metadata": {},
          "execution_count": 4
        }
      ],
      "execution_count": 4
    },
    {
      "cell_type": "markdown",
      "source": [
        "Podemos imprimir en pantallas una cadena usando la sentencia print:"
      ],
      "metadata": {
        "application/vnd.databricks.v1+cell": {
          "title": "",
          "showTitle": false,
          "inputWidgets": {},
          "nuid": "f2dca36c-a031-459e-8579-67c2d0f631b8"
        },
        "id": "BI5N7DqyVkHq"
      }
    },
    {
      "cell_type": "code",
      "source": [
        "# Imprimir la cadea\n",
        "\n",
        "print(\"hello!\")"
      ],
      "metadata": {
        "application/vnd.databricks.v1+cell": {
          "title": "",
          "showTitle": false,
          "inputWidgets": {},
          "nuid": "ab92c5e7-fe91-40e8-b339-b4150b7daef6"
        },
        "id": "s29fhugxVkHq",
        "outputId": "535d0221-4b1c-4595-9c5d-28c1ecc9ffb4",
        "colab": {
          "base_uri": "https://localhost:8080/"
        }
      },
      "outputs": [
        {
          "output_type": "stream",
          "name": "stdout",
          "text": [
            "hello!\n"
          ]
        }
      ],
      "execution_count": 5
    },
    {
      "cell_type": "markdown",
      "source": [
        "Podemos asignar una cadena como valor de una variable:"
      ],
      "metadata": {
        "application/vnd.databricks.v1+cell": {
          "title": "",
          "showTitle": false,
          "inputWidgets": {},
          "nuid": "ee912641-c6f6-49a2-8c8a-8224e9f2c011"
        },
        "id": "Ob6o8PqCVkHq"
      }
    },
    {
      "cell_type": "code",
      "source": [
        "# Asignar una cadena a una variable\n",
        "\n",
        "Name = \"Michael Jackson\"\n",
        "Name"
      ],
      "metadata": {
        "application/vnd.databricks.v1+cell": {
          "title": "",
          "showTitle": false,
          "inputWidgets": {},
          "nuid": "472735ea-e2b4-4e95-a7b9-dc5a388f8203"
        },
        "id": "hefdJ163VkHq",
        "outputId": "6964d2d4-abaf-41d8-9abc-b6d6cc029486",
        "colab": {
          "base_uri": "https://localhost:8080/",
          "height": 36
        }
      },
      "outputs": [
        {
          "output_type": "execute_result",
          "data": {
            "text/plain": [
              "'Michael Jackson'"
            ],
            "application/vnd.google.colaboratory.intrinsic+json": {
              "type": "string"
            }
          },
          "metadata": {},
          "execution_count": 6
        }
      ],
      "execution_count": 6
    },
    {
      "cell_type": "markdown",
      "source": [
        "<h2 id=\"index\">Indexación</h2>"
      ],
      "metadata": {
        "application/vnd.databricks.v1+cell": {
          "title": "",
          "showTitle": false,
          "inputWidgets": {},
          "nuid": "498ef261-6833-4b74-a10b-6a2efa30b4a2"
        },
        "id": "o9lalZ47VkHq"
      }
    },
    {
      "cell_type": "markdown",
      "source": [
        "Debemos pensar en una cadena como una secuencia ordenada. Cada elemento de la secuencia puede ser accedido utilizando un índice numérico, el cual representa el lugar que ocupa dicho elemento en la cadena:"
      ],
      "metadata": {
        "application/vnd.databricks.v1+cell": {
          "title": "",
          "showTitle": false,
          "inputWidgets": {},
          "nuid": "82faedb4-0220-49c6-9513-a607ad48ca64"
        },
        "id": "RWK6PZt9VkHq"
      }
    },
    {
      "cell_type": "markdown",
      "source": [
        "<img src=\"https://s3-api.us-geo.objectstorage.softlayer.net/cf-courses-data/CognitiveClass/PY0101EN/Chapter%201/Images/StringsIndex.png\" width=\"600\" align=\"center\" />"
      ],
      "metadata": {
        "application/vnd.databricks.v1+cell": {
          "title": "",
          "showTitle": false,
          "inputWidgets": {},
          "nuid": "edf71893-be4c-4225-af89-1eb7b71e574f"
        },
        "id": "HyEA1QeXVkHq"
      }
    },
    {
      "cell_type": "markdown",
      "source": [
        "Se puede acceder al primer índice de la siguiente manera:"
      ],
      "metadata": {
        "application/vnd.databricks.v1+cell": {
          "title": "",
          "showTitle": false,
          "inputWidgets": {},
          "nuid": "3baffebb-7d70-49d7-aae5-5aed40453431"
        },
        "id": "AhfB2IGJVkHq"
      }
    },
    {
      "cell_type": "markdown",
      "source": [
        "<hr/>\n",
        "<div class=\"alert alert-success alertsuccess\" style=\"margin-top: 20px\">\n",
        "[Tip]: En la indexación se empieza por el 0, esto quiere decir que el primer elemento de la cadena está en el índice 0.\n",
        "</div>\n",
        "<hr/>"
      ],
      "metadata": {
        "application/vnd.databricks.v1+cell": {
          "title": "",
          "showTitle": false,
          "inputWidgets": {},
          "nuid": "dd579068-7787-4dcb-8971-1c7e70312114"
        },
        "id": "SSk6HbKuVkHr"
      }
    },
    {
      "cell_type": "code",
      "source": [
        "# Imprime el primer elemento de la cadena\n",
        "\n",
        "print(Name[0])"
      ],
      "metadata": {
        "application/vnd.databricks.v1+cell": {
          "title": "",
          "showTitle": false,
          "inputWidgets": {},
          "nuid": "956eff60-6fdc-4c8c-ba51-3c3af1e67d2d"
        },
        "id": "5qxrSlHzVkHr",
        "outputId": "9b8b67eb-dcce-4d11-84da-955915290d82",
        "colab": {
          "base_uri": "https://localhost:8080/"
        }
      },
      "outputs": [
        {
          "output_type": "stream",
          "name": "stdout",
          "text": [
            "M\n"
          ]
        }
      ],
      "execution_count": 7
    },
    {
      "cell_type": "markdown",
      "source": [
        "Podemos acceder el índice 6:"
      ],
      "metadata": {
        "application/vnd.databricks.v1+cell": {
          "title": "",
          "showTitle": false,
          "inputWidgets": {},
          "nuid": "763c24bb-6639-48c4-8a9a-52f1411126c1"
        },
        "id": "QBEZsyvyVkHr"
      }
    },
    {
      "cell_type": "code",
      "source": [
        "# Imprime el elemento en el índice 6 de la cadena\n",
        "\n",
        "print(Name[6])"
      ],
      "metadata": {
        "application/vnd.databricks.v1+cell": {
          "title": "",
          "showTitle": false,
          "inputWidgets": {},
          "nuid": "61adbc4f-3f3c-4996-8d58-0191b2ce73e7"
        },
        "id": "kPv89cI8VkHr",
        "outputId": "9967d02a-08b0-46a3-9904-ed993b8b0e46",
        "colab": {
          "base_uri": "https://localhost:8080/"
        }
      },
      "outputs": [
        {
          "output_type": "stream",
          "name": "stdout",
          "text": [
            "l\n"
          ]
        }
      ],
      "execution_count": 8
    },
    {
      "cell_type": "markdown",
      "source": [
        "También, podemos acceder al treceavo elemento:"
      ],
      "metadata": {
        "application/vnd.databricks.v1+cell": {
          "title": "",
          "showTitle": false,
          "inputWidgets": {},
          "nuid": "55b73ebd-cdd4-4b2c-9abe-c691447790bf"
        },
        "id": "Zevr2CKSVkHr"
      }
    },
    {
      "cell_type": "code",
      "source": [
        "# Imprime el elemento en el treceavo índice de la cadena\n",
        "\n",
        "print(Name[13])"
      ],
      "metadata": {
        "application/vnd.databricks.v1+cell": {
          "title": "",
          "showTitle": false,
          "inputWidgets": {},
          "nuid": "4b2fe12c-7371-45ed-98a7-c417c3c886ba"
        },
        "id": "V9-kC9MEVkHr",
        "outputId": "c6048dbc-f454-4895-a999-d196fe5bcd6d",
        "colab": {
          "base_uri": "https://localhost:8080/"
        }
      },
      "outputs": [
        {
          "output_type": "stream",
          "name": "stdout",
          "text": [
            "o\n"
          ]
        }
      ],
      "execution_count": 9
    },
    {
      "cell_type": "markdown",
      "source": [
        "<h3 id=\"neg\">Indexación Negativa</h3>"
      ],
      "metadata": {
        "application/vnd.databricks.v1+cell": {
          "title": "",
          "showTitle": false,
          "inputWidgets": {},
          "nuid": "ef4b0aef-856e-4310-8524-e30d9fc4a7e7"
        },
        "id": "F6nawu5BVkHr"
      }
    },
    {
      "cell_type": "markdown",
      "source": [
        "Con las cadenas tambien podemos usar la indexación negativa:"
      ],
      "metadata": {
        "application/vnd.databricks.v1+cell": {
          "title": "",
          "showTitle": false,
          "inputWidgets": {},
          "nuid": "1e699e8d-475a-4988-b27b-7bb1d0dde27a"
        },
        "id": "dXNS77kKVkHs"
      }
    },
    {
      "cell_type": "markdown",
      "source": [
        "<img src=\"https://s3-api.us-geo.objectstorage.softlayer.net/cf-courses-data/CognitiveClass/PY0101EN/Chapter%201/Images/StringsNeg.png\" width=\"600\" align=\"center\" />"
      ],
      "metadata": {
        "application/vnd.databricks.v1+cell": {
          "title": "",
          "showTitle": false,
          "inputWidgets": {},
          "nuid": "222993fc-fc69-41e4-9c40-b0fed8c79e0b"
        },
        "id": "DOCCh-oiVkHs"
      }
    },
    {
      "cell_type": "markdown",
      "source": [
        "La indexación negativa nos sirve para numerar un elemento desde el final de una cadena."
      ],
      "metadata": {
        "application/vnd.databricks.v1+cell": {
          "title": "",
          "showTitle": false,
          "inputWidgets": {},
          "nuid": "21ad5ad4-ab40-4ac2-b1fd-8005a8ddc9a0"
        },
        "id": "-UURgyGmVkHs"
      }
    },
    {
      "cell_type": "markdown",
      "source": [
        "El ultima elemento tiene el índice -1:"
      ],
      "metadata": {
        "application/vnd.databricks.v1+cell": {
          "title": "",
          "showTitle": false,
          "inputWidgets": {},
          "nuid": "9449b8f6-f62c-410e-a163-16672fb823c2"
        },
        "id": "-6d9n6ElVkHs"
      }
    },
    {
      "cell_type": "code",
      "source": [
        "# Imprime el último elemento de la cadena\n",
        "\n",
        "print(Name[-1])"
      ],
      "metadata": {
        "application/vnd.databricks.v1+cell": {
          "title": "",
          "showTitle": false,
          "inputWidgets": {},
          "nuid": "8673daf2-0532-4732-9cc1-4ffde815f17a"
        },
        "id": "yekBOYdlVkHs",
        "outputId": "0ce9305c-5c67-451f-8589-ba31b9d39231",
        "colab": {
          "base_uri": "https://localhost:8080/"
        }
      },
      "outputs": [
        {
          "output_type": "stream",
          "name": "stdout",
          "text": [
            "n\n"
          ]
        }
      ],
      "execution_count": 10
    },
    {
      "cell_type": "markdown",
      "source": [
        "El primer elemento se obtiene usando como índice el -15:"
      ],
      "metadata": {
        "application/vnd.databricks.v1+cell": {
          "title": "",
          "showTitle": false,
          "inputWidgets": {},
          "nuid": "c3014bd8-dde8-4fcb-b1f0-a86bfabab7c1"
        },
        "id": "zVoKqeLBVkHs"
      }
    },
    {
      "cell_type": "code",
      "source": [
        "# Imprime el primer elemento de la cadena\n",
        "\n",
        "print(Name[-15])"
      ],
      "metadata": {
        "application/vnd.databricks.v1+cell": {
          "title": "",
          "showTitle": false,
          "inputWidgets": {},
          "nuid": "66c759a3-e482-4101-8427-176c62939e1b"
        },
        "id": "jouy4WS7VkHt",
        "outputId": "7a99df80-54b3-4083-8bae-0a3b5143459b",
        "colab": {
          "base_uri": "https://localhost:8080/"
        }
      },
      "outputs": [
        {
          "output_type": "stream",
          "name": "stdout",
          "text": [
            "M\n"
          ]
        }
      ],
      "execution_count": 11
    },
    {
      "cell_type": "markdown",
      "source": [
        "Para conocer la cantidad de caracteres en un cadena usamos <code>len</code>, que es la abreviación de length, en inglés significa longitud:"
      ],
      "metadata": {
        "application/vnd.databricks.v1+cell": {
          "title": "",
          "showTitle": false,
          "inputWidgets": {},
          "nuid": "0beca8f1-b3ce-45d8-a383-87b7165a9f8f"
        },
        "id": "ggRASwVQVkHt"
      }
    },
    {
      "cell_type": "code",
      "source": [
        "# Encuentra la longitud de la cadena\n",
        "\n",
        "len(\"Michael Jackson\")"
      ],
      "metadata": {
        "application/vnd.databricks.v1+cell": {
          "title": "",
          "showTitle": false,
          "inputWidgets": {},
          "nuid": "b3a10269-12b0-4657-b731-0ebfd79b8b84"
        },
        "id": "xXLnagdUVkHt",
        "outputId": "dcdeef49-62ed-4da5-f24d-2cc5644eb6e8",
        "colab": {
          "base_uri": "https://localhost:8080/"
        }
      },
      "outputs": [
        {
          "output_type": "execute_result",
          "data": {
            "text/plain": [
              "15"
            ]
          },
          "metadata": {},
          "execution_count": 12
        }
      ],
      "execution_count": 12
    },
    {
      "cell_type": "markdown",
      "source": [
        "<h3 id=\"slice\">Slicing</h3>"
      ],
      "metadata": {
        "application/vnd.databricks.v1+cell": {
          "title": "",
          "showTitle": false,
          "inputWidgets": {},
          "nuid": "19a168ee-df46-4f2b-9c43-26fb8bad3100"
        },
        "id": "-DxpB4roVkHt"
      }
    },
    {
      "cell_type": "markdown",
      "source": [
        "Podemos obtener múltiples caracteres de una cadena usando el slicing, digamos desde primero hasta el cuarto y desde el octavo hasta el doceavo:"
      ],
      "metadata": {
        "application/vnd.databricks.v1+cell": {
          "title": "",
          "showTitle": false,
          "inputWidgets": {},
          "nuid": "da37a4c2-c3d0-4857-ac65-9aa49d895fc5"
        },
        "id": "z-AhSNc9VkHt"
      }
    },
    {
      "cell_type": "markdown",
      "source": [
        "<img src=\"https://s3-api.us-geo.objectstorage.softlayer.net/cf-courses-data/CognitiveClass/PY0101EN/Chapter%201/Images/StringsSlice.png\" width=\"600\" align=\"center\" />"
      ],
      "metadata": {
        "application/vnd.databricks.v1+cell": {
          "title": "",
          "showTitle": false,
          "inputWidgets": {},
          "nuid": "a7fbdef7-db18-4da9-96f3-7da92df74bc7"
        },
        "id": "OqJt5-05VkH0"
      }
    },
    {
      "cell_type": "markdown",
      "source": [
        "<hr/>\n",
        "<div class=\"alert alert-success alertsuccess\" style=\"margin-top: 20px\">\n",
        "[Tip]: Para aplicar el slicing, el primer numero indica el índice del primer elemento, y el segundo numero indicara el índice del ultimo elemento de la sub-cadena que queremos obtener.\n",
        "</div>\n",
        "<hr/>"
      ],
      "metadata": {
        "application/vnd.databricks.v1+cell": {
          "title": "",
          "showTitle": false,
          "inputWidgets": {},
          "nuid": "226ab59e-dd92-4640-b69d-8bb7f1018903"
        },
        "id": "UOT78NtFVkH0"
      }
    },
    {
      "cell_type": "code",
      "source": [
        "# Asigna una seccion de la cadena dentro de la variable Name usando los indices desde el 0 hasta el 3\n",
        "\n",
        "Name[0:4]"
      ],
      "metadata": {
        "application/vnd.databricks.v1+cell": {
          "title": "",
          "showTitle": false,
          "inputWidgets": {},
          "nuid": "ccba6bf2-5333-4e5a-a3ad-ddf3bc818c02"
        },
        "id": "7hWDWKrMVkH0",
        "outputId": "2ae03235-becb-4526-e9fb-1cd9d8613c1e",
        "colab": {
          "base_uri": "https://localhost:8080/",
          "height": 36
        }
      },
      "outputs": [
        {
          "output_type": "execute_result",
          "data": {
            "text/plain": [
              "'Mich'"
            ],
            "application/vnd.google.colaboratory.intrinsic+json": {
              "type": "string"
            }
          },
          "metadata": {},
          "execution_count": 13
        }
      ],
      "execution_count": 13
    },
    {
      "cell_type": "code",
      "source": [
        "# Asigna una seccion de la cadena dentro de la variable Name usando los indices desde el 8 hasta el 11\n",
        "\n",
        "Name[8:12]"
      ],
      "metadata": {
        "application/vnd.databricks.v1+cell": {
          "title": "",
          "showTitle": false,
          "inputWidgets": {},
          "nuid": "22f39e7a-d6ae-445a-b4fa-ec6faa54e047"
        },
        "id": "60VDYWYPVkH0",
        "outputId": "df3243c1-000c-470e-fa84-acb3685e196c",
        "colab": {
          "base_uri": "https://localhost:8080/",
          "height": 36
        }
      },
      "outputs": [
        {
          "output_type": "execute_result",
          "data": {
            "text/plain": [
              "'Jack'"
            ],
            "application/vnd.google.colaboratory.intrinsic+json": {
              "type": "string"
            }
          },
          "metadata": {},
          "execution_count": 14
        }
      ],
      "execution_count": 14
    },
    {
      "cell_type": "markdown",
      "source": [
        "<h3 id=\"stride\">Stride</h3>"
      ],
      "metadata": {
        "application/vnd.databricks.v1+cell": {
          "title": "",
          "showTitle": false,
          "inputWidgets": {},
          "nuid": "7e9cea89-8472-4e3e-8c7e-ae6be95be267"
        },
        "id": "oYQHkq2vVkH1"
      }
    },
    {
      "cell_type": "markdown",
      "source": [
        "Para usar la técnica del stride debemos asignar un valor que a continuación se explica, si usamos el '2' por ejemplo, estaremos indicando que queremos seleccionar solamente cada segundo elemento de la cadena:"
      ],
      "metadata": {
        "application/vnd.databricks.v1+cell": {
          "title": "",
          "showTitle": false,
          "inputWidgets": {},
          "nuid": "9c07eeb9-1a6b-4c0e-9fad-001b24a65953"
        },
        "id": "b32jKWyPVkH1"
      }
    },
    {
      "cell_type": "markdown",
      "source": [
        "<img src=\"https://s3-api.us-geo.objectstorage.softlayer.net/cf-courses-data/CognitiveClass/PY0101EN/Chapter%201/Images/StringsStride.png\" width=\"600\" align=\"center\" />"
      ],
      "metadata": {
        "application/vnd.databricks.v1+cell": {
          "title": "",
          "showTitle": false,
          "inputWidgets": {},
          "nuid": "7c39cfc4-298c-43c4-99a1-b625967921ef"
        },
        "id": "EYygNmavVkH1"
      }
    },
    {
      "cell_type": "code",
      "source": [
        "# Toma cada segundo elemento. Los elementos con índice 1, 3, 5 ...\n",
        "\n",
        "Name[::2]"
      ],
      "metadata": {
        "application/vnd.databricks.v1+cell": {
          "title": "",
          "showTitle": false,
          "inputWidgets": {},
          "nuid": "fdaefc84-384d-415a-a079-123a601deeb1"
        },
        "id": "jUm9frW2VkH1",
        "outputId": "177846da-0101-4ff2-ee3c-e82593da9345",
        "colab": {
          "base_uri": "https://localhost:8080/",
          "height": 36
        }
      },
      "outputs": [
        {
          "output_type": "execute_result",
          "data": {
            "text/plain": [
              "'McalJcsn'"
            ],
            "application/vnd.google.colaboratory.intrinsic+json": {
              "type": "string"
            }
          },
          "metadata": {},
          "execution_count": 15
        }
      ],
      "execution_count": 15
    },
    {
      "cell_type": "markdown",
      "source": [
        "También Podemos combinar el slicing con el stride. Para este caso, seleccionamos los primeros cinco elementos y después aplicamos stride:"
      ],
      "metadata": {
        "application/vnd.databricks.v1+cell": {
          "title": "",
          "showTitle": false,
          "inputWidgets": {},
          "nuid": "05fb0838-a4de-486b-88e4-9834bc8e01d7"
        },
        "id": "Z6eGDg2mVkH1"
      }
    },
    {
      "cell_type": "code",
      "source": [
        "# Toma cada segundo elemento desde el índice 0 al 4\n",
        "\n",
        "Name[0:5:2]"
      ],
      "metadata": {
        "application/vnd.databricks.v1+cell": {
          "title": "",
          "showTitle": false,
          "inputWidgets": {},
          "nuid": "808f6d84-22b3-41a1-856c-94b54061aa71"
        },
        "id": "SfGt6iSoVkH1",
        "outputId": "a4317fc5-034a-486a-a262-6d527eb695f6",
        "colab": {
          "base_uri": "https://localhost:8080/",
          "height": 36
        }
      },
      "outputs": [
        {
          "output_type": "execute_result",
          "data": {
            "text/plain": [
              "'Mca'"
            ],
            "application/vnd.google.colaboratory.intrinsic+json": {
              "type": "string"
            }
          },
          "metadata": {},
          "execution_count": 16
        }
      ],
      "execution_count": 16
    },
    {
      "cell_type": "markdown",
      "source": [
        "<h3 id=\"concat\">Concatenar Cadenas</h3>"
      ],
      "metadata": {
        "application/vnd.databricks.v1+cell": {
          "title": "",
          "showTitle": false,
          "inputWidgets": {},
          "nuid": "9be577d4-4e55-4d17-8bcd-faf94f7d42b8"
        },
        "id": "VvQX9szIVkH1"
      }
    },
    {
      "cell_type": "markdown",
      "source": [
        "Podemos concatenar o combinar cadenas usando el símbolo de suma, el resultado será una nueva cadena que surge de la combinación de ambas:"
      ],
      "metadata": {
        "application/vnd.databricks.v1+cell": {
          "title": "",
          "showTitle": false,
          "inputWidgets": {},
          "nuid": "ca9879b1-5dac-40ff-83b0-82c0e32e964e"
        },
        "id": "nWmRHcIrVkH1"
      }
    },
    {
      "cell_type": "code",
      "source": [
        "# Concatenar dos cadenas\n",
        "\n",
        "Statement = Name + \"is the best\"\n",
        "Statement"
      ],
      "metadata": {
        "application/vnd.databricks.v1+cell": {
          "title": "",
          "showTitle": false,
          "inputWidgets": {},
          "nuid": "fe24609a-7daa-4090-9c24-36571c5e61ea"
        },
        "id": "RZCKVXA5VkH1",
        "outputId": "e586151e-e82e-4d39-9178-d006a8306e29",
        "colab": {
          "base_uri": "https://localhost:8080/",
          "height": 36
        }
      },
      "outputs": [
        {
          "output_type": "execute_result",
          "data": {
            "text/plain": [
              "'Michael Jacksonis the best'"
            ],
            "application/vnd.google.colaboratory.intrinsic+json": {
              "type": "string"
            }
          },
          "metadata": {},
          "execution_count": 17
        }
      ],
      "execution_count": 17
    },
    {
      "cell_type": "markdown",
      "source": [
        "Para replicar los valores en una cadena simplemente podemos multiplicarla por el numero de veces que deseemos. Para este caso, el numero de veces es tres. El resultado es una nueva cadena, la cual consiste en tres copias de la original:"
      ],
      "metadata": {
        "application/vnd.databricks.v1+cell": {
          "title": "",
          "showTitle": false,
          "inputWidgets": {},
          "nuid": "b0133664-e3e3-4d83-8c81-a8199b2a76cb"
        },
        "id": "sA_hAGNaVkH1"
      }
    },
    {
      "cell_type": "code",
      "source": [
        "# Imprime la cadena 3 veces\n",
        "\n",
        "3 * \"Michael Jackson\""
      ],
      "metadata": {
        "application/vnd.databricks.v1+cell": {
          "title": "",
          "showTitle": false,
          "inputWidgets": {},
          "nuid": "5e196dbe-1920-4bb8-bb51-391ba73ec80e"
        },
        "id": "zyltyiXsVkH2",
        "outputId": "0b239687-e9e5-48df-b809-2c02b59da091",
        "colab": {
          "base_uri": "https://localhost:8080/",
          "height": 36
        }
      },
      "outputs": [
        {
          "output_type": "execute_result",
          "data": {
            "text/plain": [
              "'Michael JacksonMichael JacksonMichael Jackson'"
            ],
            "application/vnd.google.colaboratory.intrinsic+json": {
              "type": "string"
            }
          },
          "metadata": {},
          "execution_count": 18
        }
      ],
      "execution_count": 18
    },
    {
      "cell_type": "markdown",
      "source": [
        "Se puede crear una nueva cadena añadiendo otra a la original contenida en la variable. Concatenada con una nueva cadena, el resultado es otra diferente, Michael Jackson pasó a ser “Michael Jackson is the best”."
      ],
      "metadata": {
        "application/vnd.databricks.v1+cell": {
          "title": "",
          "showTitle": false,
          "inputWidgets": {},
          "nuid": "90c2c1d7-0c9c-46a5-ab5c-2d40eea40657"
        },
        "id": "USvkFv4aVkH2"
      }
    },
    {
      "cell_type": "code",
      "source": [
        "# Concatenar cadenas\n",
        "\n",
        "Name = \"Michael Jackson\"\n",
        "Name = Name + \" is the best\"\n",
        "Name"
      ],
      "metadata": {
        "application/vnd.databricks.v1+cell": {
          "title": "",
          "showTitle": false,
          "inputWidgets": {},
          "nuid": "b575a573-242d-4252-a8c9-08e1c4923d06"
        },
        "id": "lgw3AbvkVkH2",
        "outputId": "ac6e351f-e99b-41f5-ffe7-a26daa2b7cbd",
        "colab": {
          "base_uri": "https://localhost:8080/",
          "height": 36
        }
      },
      "outputs": [
        {
          "output_type": "execute_result",
          "data": {
            "text/plain": [
              "'Michael Jackson is the best'"
            ],
            "application/vnd.google.colaboratory.intrinsic+json": {
              "type": "string"
            }
          },
          "metadata": {},
          "execution_count": 19
        }
      ],
      "execution_count": 19
    },
    {
      "cell_type": "markdown",
      "source": [
        "<h2 id=\"escape\">Secuencias de Escape</h2>"
      ],
      "metadata": {
        "application/vnd.databricks.v1+cell": {
          "title": "",
          "showTitle": false,
          "inputWidgets": {},
          "nuid": "3d6fafbb-5f58-4dac-935d-53cee7005b15"
        },
        "id": "bv37_s7yVkH2"
      }
    },
    {
      "cell_type": "markdown",
      "source": [
        "Una barra invertida representa el inicio de una secuencia de escape. Estas representan cadenas que pudieran ser difíciles de introducir. Por ejemplo, una barra invertida seguida de una \"n\" representa un salto de línea. En la salida de pantalla tendremos un salto de línea cada vez que una barra invertida y la letra \"n\" sea encontrada."
      ],
      "metadata": {
        "application/vnd.databricks.v1+cell": {
          "title": "",
          "showTitle": false,
          "inputWidgets": {},
          "nuid": "c9b105cd-5a60-4dc0-895d-d44babb45a58"
        },
        "id": "KS-29V6aVkH2"
      }
    },
    {
      "cell_type": "code",
      "source": [
        "# Secuencia de escape para un Salto de línea\n",
        "\n",
        "print(\" Michael Jackson \\n is the best\" )"
      ],
      "metadata": {
        "application/vnd.databricks.v1+cell": {
          "title": "",
          "showTitle": false,
          "inputWidgets": {},
          "nuid": "6c7578ab-35cd-4edc-8316-6a5bc0ddb17e"
        },
        "id": "wQdlRY4KVkH2",
        "outputId": "9706a661-4fff-4fa4-c5e1-2b969c36db0a",
        "colab": {
          "base_uri": "https://localhost:8080/"
        }
      },
      "outputs": [
        {
          "output_type": "stream",
          "name": "stdout",
          "text": [
            " Michael Jackson \n",
            " is the best\n"
          ]
        }
      ],
      "execution_count": 20
    },
    {
      "cell_type": "markdown",
      "source": [
        "De igual forma, barra invertida \"t\" aplicará un espacio de tabulación:"
      ],
      "metadata": {
        "application/vnd.databricks.v1+cell": {
          "title": "",
          "showTitle": false,
          "inputWidgets": {},
          "nuid": "6b374585-947b-44e0-992b-365e5327e30b"
        },
        "id": "0Lt5Kqk9VkH3"
      }
    },
    {
      "cell_type": "code",
      "source": [
        "# Secuencia de escape para un espacio de tabulación\n",
        "\n",
        "print(\" Michael Jackson \\t is the best\" )"
      ],
      "metadata": {
        "application/vnd.databricks.v1+cell": {
          "title": "",
          "showTitle": false,
          "inputWidgets": {},
          "nuid": "84df098e-dd52-4542-adef-519de5c326d3"
        },
        "id": "YJVL0cKUVkH3",
        "outputId": "99aec71d-88f2-487c-d1bc-667ba9b9dc47",
        "colab": {
          "base_uri": "https://localhost:8080/"
        }
      },
      "outputs": [
        {
          "output_type": "stream",
          "name": "stdout",
          "text": [
            " Michael Jackson \t is the best\n"
          ]
        }
      ],
      "execution_count": 21
    },
    {
      "cell_type": "markdown",
      "source": [
        "En caso de quieras que una barra invertida forme parte de una cadena, utiliza una doble barra invertida:"
      ],
      "metadata": {
        "application/vnd.databricks.v1+cell": {
          "title": "",
          "showTitle": false,
          "inputWidgets": {},
          "nuid": "5ef8b346-82cd-4bdc-8b5b-8001e827e6f1"
        },
        "id": "308OAo4wVkH3"
      }
    },
    {
      "cell_type": "code",
      "source": [
        "# Incluir una barra invertida en una cadena\n",
        "\n",
        "print(\" Michael Jackson \\\\ is the best\" )"
      ],
      "metadata": {
        "application/vnd.databricks.v1+cell": {
          "title": "",
          "showTitle": false,
          "inputWidgets": {},
          "nuid": "677d6591-409e-4b00-86f6-1f5233f4eef4"
        },
        "id": "ehBM0uUGVkH3",
        "outputId": "bade3529-525a-43c4-de1f-21953e5db891",
        "colab": {
          "base_uri": "https://localhost:8080/"
        }
      },
      "outputs": [
        {
          "output_type": "stream",
          "name": "stdout",
          "text": [
            " Michael Jackson \\ is the best\n"
          ]
        }
      ],
      "execution_count": 22
    },
    {
      "cell_type": "markdown",
      "source": [
        "Otra forma de hacer que se muestre la barra invertida de una cadena es colocando antes una “r”:"
      ],
      "metadata": {
        "application/vnd.databricks.v1+cell": {
          "title": "",
          "showTitle": false,
          "inputWidgets": {},
          "nuid": "540604f1-e9ef-4bcf-959c-20ba8ffd67c7"
        },
        "id": "oqZnIV-NVkH3"
      }
    },
    {
      "cell_type": "code",
      "source": [
        "# La letra r le dirá a python que muestre la cadena tal cual e ignore lo que haya despues de la barra invertida\n",
        "\n",
        "print(r\" Michael Jackson \\ is the best\" )"
      ],
      "metadata": {
        "application/vnd.databricks.v1+cell": {
          "title": "",
          "showTitle": false,
          "inputWidgets": {},
          "nuid": "3c299dd8-0c47-4f4b-9642-028300059880"
        },
        "id": "d_XsbyziVkH3",
        "outputId": "bde59c56-a82b-43fb-d11f-badfad8345e4",
        "colab": {
          "base_uri": "https://localhost:8080/"
        }
      },
      "outputs": [
        {
          "output_type": "stream",
          "name": "stdout",
          "text": [
            " Michael Jackson \\ is the best\n"
          ]
        }
      ],
      "execution_count": 23
    },
    {
      "cell_type": "markdown",
      "source": [
        "<h2 id=\"operations\">Operaciones con Cadenas</h2>"
      ],
      "metadata": {
        "application/vnd.databricks.v1+cell": {
          "title": "",
          "showTitle": false,
          "inputWidgets": {},
          "nuid": "aa0de817-641b-4893-a0ab-e0b7f66b5fbc"
        },
        "id": "F4yLywe5VkH4"
      }
    },
    {
      "cell_type": "markdown",
      "source": [
        "En Python existen muchos métodos para hacer operaciones con cadenas que pueden ser usados para manipular datos. Usaremos algunas operaciones básicas con cadenas."
      ],
      "metadata": {
        "application/vnd.databricks.v1+cell": {
          "title": "",
          "showTitle": false,
          "inputWidgets": {},
          "nuid": "e9eb402f-2691-460d-a980-7d7e3ec1c89c"
        },
        "id": "NEyJ8LR_VkH4"
      }
    },
    {
      "cell_type": "markdown",
      "source": [
        "Usemos ahora el método <code>upper</code>; este método convierte los caracteres de minúsculas a mayúsculas:"
      ],
      "metadata": {
        "application/vnd.databricks.v1+cell": {
          "title": "",
          "showTitle": false,
          "inputWidgets": {},
          "nuid": "17ffb4f6-e366-4b3e-9d21-a39d62b8f23c"
        },
        "id": "uD4qBm3YVkH4"
      }
    },
    {
      "cell_type": "code",
      "source": [
        "# Convertir todos los caracteres de la cadena en mayúsculas\n",
        "\n",
        "A = \"Thriller is the sixth studio album\"\n",
        "print(\"before upper:\", A)\n",
        "B = A.upper()\n",
        "print(\"After upper:\", B)"
      ],
      "metadata": {
        "application/vnd.databricks.v1+cell": {
          "title": "",
          "showTitle": false,
          "inputWidgets": {},
          "nuid": "05622a9b-5c39-4f3c-9e47-734de5018ce4"
        },
        "id": "pQzV2ywOVkH4",
        "outputId": "c9a5ddc1-eeb6-46e1-857c-d202970c1a4f",
        "colab": {
          "base_uri": "https://localhost:8080/"
        }
      },
      "outputs": [
        {
          "output_type": "stream",
          "name": "stdout",
          "text": [
            "before upper: Thriller is the sixth studio album\n",
            "After upper: THRILLER IS THE SIXTH STUDIO ALBUM\n"
          ]
        }
      ],
      "execution_count": 24
    },
    {
      "cell_type": "markdown",
      "source": [
        "El método <code>replace</code> reemplaza un segmento de la cadena, p.ej. una sub-cadena por una nueva. Introducimos primero la parte de la cadena que queremos cambiar. En el segundo argumento pondremos el segmento que reemplazara al anterior, el resultado será una nueva cadena con una de sus partes modificada:"
      ],
      "metadata": {
        "application/vnd.databricks.v1+cell": {
          "title": "",
          "showTitle": false,
          "inputWidgets": {},
          "nuid": "dc45b42d-0846-4696-abc9-e99a68b2e1be"
        },
        "id": "PsLNVthpVkH4"
      }
    },
    {
      "cell_type": "code",
      "source": [
        "# Reemplazar la vieja sub-cadena por una nueva\n",
        "\n",
        "A = \"Michael Jackson is the best\"\n",
        "B = A.replace('Michael', 'Janet')\n",
        "B"
      ],
      "metadata": {
        "application/vnd.databricks.v1+cell": {
          "title": "",
          "showTitle": false,
          "inputWidgets": {},
          "nuid": "8d0cdb35-4a72-42d7-a5d9-047a3daad3d4"
        },
        "id": "COKh_ItDVkH4",
        "outputId": "925e7a55-0056-445a-c5db-4dc303f40346",
        "colab": {
          "base_uri": "https://localhost:8080/",
          "height": 36
        }
      },
      "outputs": [
        {
          "output_type": "execute_result",
          "data": {
            "text/plain": [
              "'Janet Jackson is the best'"
            ],
            "application/vnd.google.colaboratory.intrinsic+json": {
              "type": "string"
            }
          },
          "metadata": {},
          "execution_count": 25
        }
      ],
      "execution_count": 25
    },
    {
      "cell_type": "markdown",
      "source": [
        "La función del método <code>find</code> es encontrar una sub-cadena. El argumento del método es la sub-cadena que deseas encontrar, y el resultado será el numero del índice perteneciente al primer carácter de la sub-cadena. Podemos encontrar la sub-cadena <code>jack</code> o <code>el</code>."
      ],
      "metadata": {
        "application/vnd.databricks.v1+cell": {
          "title": "",
          "showTitle": false,
          "inputWidgets": {},
          "nuid": "b3577d50-6516-4fbf-8d4d-01639fc55e2f"
        },
        "id": "xrJSokeEVkH4"
      }
    },
    {
      "cell_type": "markdown",
      "source": [
        "<img src=\"https://s3-api.us-geo.objectstorage.softlayer.net/cf-courses-data/CognitiveClass/PY0101EN/Chapter%201/Images/StringsFind.png\" width=\"600\" align=\"center\" />"
      ],
      "metadata": {
        "application/vnd.databricks.v1+cell": {
          "title": "",
          "showTitle": false,
          "inputWidgets": {},
          "nuid": "bd08cea0-0d32-4dee-a7f6-82e927a03bff"
        },
        "id": "LsaR_j8wVkH5"
      }
    },
    {
      "cell_type": "code",
      "source": [
        "# Encontrar la sub-cadena. El resultado será unicamente el índice del primer elemente de la sub-cadena dentro de la cadena principal.\n",
        "\n",
        "Name = \"Michael Jackson\"\n",
        "Name.find('el')"
      ],
      "metadata": {
        "application/vnd.databricks.v1+cell": {
          "title": "",
          "showTitle": false,
          "inputWidgets": {},
          "nuid": "c28dcd0f-71bb-4c4a-bc7b-46e94156ff92"
        },
        "id": "JVVjhy34VkH5",
        "outputId": "d4fcd2a1-54cc-4f84-a16f-17ea22f67fe2",
        "colab": {
          "base_uri": "https://localhost:8080/"
        }
      },
      "outputs": [
        {
          "output_type": "execute_result",
          "data": {
            "text/plain": [
              "5"
            ]
          },
          "metadata": {},
          "execution_count": 26
        }
      ],
      "execution_count": 26
    },
    {
      "cell_type": "code",
      "source": [
        "# Encotrar la sub-cadena dentro de la cadena.\n",
        "\n",
        "Name.find('Jack')"
      ],
      "metadata": {
        "application/vnd.databricks.v1+cell": {
          "title": "",
          "showTitle": false,
          "inputWidgets": {},
          "nuid": "da2dc5bb-48b0-46d6-a5d6-c915ec0ab6e0"
        },
        "id": "H8jA_q1yVkH5",
        "outputId": "ae16c313-3cb3-49f5-c306-18cdcb70b8f5",
        "colab": {
          "base_uri": "https://localhost:8080/"
        }
      },
      "outputs": [
        {
          "output_type": "execute_result",
          "data": {
            "text/plain": [
              "8"
            ]
          },
          "metadata": {},
          "execution_count": 27
        }
      ],
      "execution_count": 27
    },
    {
      "cell_type": "markdown",
      "source": [
        "Si la sub-cadena no se encuentra en la cadena principal el resultado será -1. Por ejemplo, la cadena 'Jasdfasdasdf' no es una sub-cadena:"
      ],
      "metadata": {
        "application/vnd.databricks.v1+cell": {
          "title": "",
          "showTitle": false,
          "inputWidgets": {},
          "nuid": "804d4f0e-acdc-4bba-bda1-49b2fb040bbd"
        },
        "id": "lSYXGADFVkH5"
      }
    },
    {
      "cell_type": "code",
      "source": [
        "# Si no se encuentra la sub-cadena en la cadena principal\n",
        "\n",
        "Name.find('Jasdfasdasdf')"
      ],
      "metadata": {
        "collapsed": true,
        "application/vnd.databricks.v1+cell": {
          "title": "",
          "showTitle": false,
          "inputWidgets": {},
          "nuid": "70870236-7a8c-456c-b2e4-6f7bb79f8cb3"
        },
        "id": "-qkMiNxHVkH5",
        "outputId": "7c11c97a-c887-4f2c-c18a-5bc287945e00",
        "colab": {
          "base_uri": "https://localhost:8080/"
        }
      },
      "outputs": [
        {
          "output_type": "execute_result",
          "data": {
            "text/plain": [
              "-1"
            ]
          },
          "metadata": {},
          "execution_count": 28
        }
      ],
      "execution_count": 28
    },
    {
      "cell_type": "markdown",
      "source": [
        "<h2 id=\"quiz\">Exámen sobre Cadenas</h2>"
      ],
      "metadata": {
        "application/vnd.databricks.v1+cell": {
          "title": "",
          "showTitle": false,
          "inputWidgets": {},
          "nuid": "8cfcb624-f5f8-4433-b094-7ad339e9d7ae"
        },
        "id": "CChLO_GRVkH5"
      }
    },
    {
      "cell_type": "markdown",
      "source": [
        "¿Cual es el valor de la variable <code>A</code> después de ejecutar el siguiente código?"
      ],
      "metadata": {
        "application/vnd.databricks.v1+cell": {
          "title": "",
          "showTitle": false,
          "inputWidgets": {},
          "nuid": "8cac69a8-c656-4388-8e47-091031ce304e"
        },
        "id": "RkMXjtp3VkH5"
      }
    },
    {
      "cell_type": "code",
      "source": [
        "# 1. Asignación: A = \"1\" guarda el texto \"1\", no el número.\n",
        "# 2. Impresión: print(A) muestra el contenido de la variable.\n",
        "# 3. Resultado: A vale \"1\" (tipo cadena) y se imprime 1.\n",
        "\n",
        "A = \"1\"\n",
        "print(A)\n"
      ],
      "metadata": {
        "application/vnd.databricks.v1+cell": {
          "title": "",
          "showTitle": false,
          "inputWidgets": {},
          "nuid": "ddb3b91a-cb39-4ff4-a4a3-dedfe6fb5ed9"
        },
        "id": "3YYxQvYVVkH5",
        "outputId": "2eac5578-48df-4cd2-f696-45721493a3a8",
        "colab": {
          "base_uri": "https://localhost:8080/"
        }
      },
      "outputs": [
        {
          "output_type": "stream",
          "name": "stdout",
          "text": [
            "1\n"
          ]
        }
      ],
      "execution_count": 29
    },
    {
      "cell_type": "markdown",
      "source": [
        "Haz doble click <b>aquí</b> para ver la solución.\n",
        "\n",
        "<!-- Your answer is below:\n",
        "\"1\"\n",
        "-->"
      ],
      "metadata": {
        "application/vnd.databricks.v1+cell": {
          "title": "",
          "showTitle": false,
          "inputWidgets": {},
          "nuid": "811acc28-880a-442e-875c-13b1437ec777"
        },
        "id": "tdgrG8Z-VkH5"
      }
    },
    {
      "cell_type": "markdown",
      "source": [
        "¿Cual es el valor de la variable <code>B</code> después de ejecutar el siguiente código?"
      ],
      "metadata": {
        "application/vnd.databricks.v1+cell": {
          "title": "",
          "showTitle": false,
          "inputWidgets": {},
          "nuid": "4a2b11b3-7994-4d9c-9c9c-fe09ff58516e"
        },
        "id": "Hoki3i_LVkH5"
      }
    },
    {
      "cell_type": "code",
      "source": [
        "# 1. Asignación: B = \"2\" guarda el texto \"2\".\n",
        "# 2. Impresión: print(B) muestra el contenido de la variable.\n",
        "# 3. Resultado: B vale \"2\" (cadena) y se imprime 2.\n",
        "\n",
        "B = \"2\"\n",
        "print(B)"
      ],
      "metadata": {
        "collapsed": true,
        "application/vnd.databricks.v1+cell": {
          "title": "",
          "showTitle": false,
          "inputWidgets": {},
          "nuid": "b7b54f58-f3b7-4e87-bbe9-84fa5ef80eb7"
        },
        "id": "wNoje2alVkH5",
        "outputId": "6def7897-4268-46b5-b92c-056f62f91cfd",
        "colab": {
          "base_uri": "https://localhost:8080/"
        }
      },
      "outputs": [
        {
          "output_type": "stream",
          "name": "stdout",
          "text": [
            "2\n"
          ]
        }
      ],
      "execution_count": 30
    },
    {
      "cell_type": "markdown",
      "source": [
        "Haz doble click <b>aquí</b> para ver la solución.\n",
        "\n",
        "<!-- Your answer is below:\n",
        "\"2\"\n",
        "-->"
      ],
      "metadata": {
        "application/vnd.databricks.v1+cell": {
          "title": "",
          "showTitle": false,
          "inputWidgets": {},
          "nuid": "e23964d1-cdac-43c4-ac42-855cc74f0eba"
        },
        "id": "Xr1NPO0eVkH5"
      }
    },
    {
      "cell_type": "markdown",
      "source": [
        "¿Cual es el valor de la variable <code>C</code> después de ejecutar el siguiente código?"
      ],
      "metadata": {
        "application/vnd.databricks.v1+cell": {
          "title": "",
          "showTitle": false,
          "inputWidgets": {},
          "nuid": "956a96c3-9fdd-45bf-95f4-3bb6b019a3be"
        },
        "id": "1tSUoAr1VkH6"
      }
    },
    {
      "cell_type": "code",
      "source": [
        "# 1. Asignación: C = A + B → \"1\" + \"2\".\n",
        "# 2. Impresión: print(C) muestra la concatenación.\n",
        "# 3. Resultado: C vale \"12\" (cadena) y se imprime 12.\n",
        "\n",
        "C = A + B\n",
        "print(C)"
      ],
      "metadata": {
        "application/vnd.databricks.v1+cell": {
          "title": "",
          "showTitle": false,
          "inputWidgets": {},
          "nuid": "33186c3e-73c4-4983-ad57-127675d91e4b"
        },
        "id": "h_GGd81KVkH6",
        "outputId": "502e56a1-3b23-455c-ec77-f4eb079b1615",
        "colab": {
          "base_uri": "https://localhost:8080/"
        }
      },
      "outputs": [
        {
          "output_type": "stream",
          "name": "stdout",
          "text": [
            "12\n"
          ]
        }
      ],
      "execution_count": 31
    },
    {
      "cell_type": "markdown",
      "source": [
        "Haz doble click <b>aquí</b> para ver la solución.\n",
        "\n",
        "<!-- Your answer is below:\n",
        "\"12\"\n",
        "-->"
      ],
      "metadata": {
        "application/vnd.databricks.v1+cell": {
          "title": "",
          "showTitle": false,
          "inputWidgets": {},
          "nuid": "b703193a-ff7c-4bf2-8c03-c814e4cf9f3a"
        },
        "id": "t9SwIZc0VkH6"
      }
    },
    {
      "cell_type": "markdown",
      "source": [
        "En la variable <code>D</code> haz uso del slicing para imprimir solo los primeros tres elementos:"
      ],
      "metadata": {
        "application/vnd.databricks.v1+cell": {
          "title": "",
          "showTitle": false,
          "inputWidgets": {},
          "nuid": "1ed60bff-748e-4c67-8307-04520da43b97"
        },
        "id": "F93TVq3tVkH6"
      }
    },
    {
      "cell_type": "code",
      "source": [
        "# 1. Asignación: D = \"ABCDEFG\".\n",
        "# 2. Slicing: D[0:4] toma desde la posición 0 hasta antes de la 3.\n",
        "# 3. Resultado: D[0:4] vale \"ABCD\" y se imprime ABC.\n",
        "\n",
        "D = \"ABCDEFG\"\n",
        "D[0:4]"
      ],
      "metadata": {
        "application/vnd.databricks.v1+cell": {
          "title": "",
          "showTitle": false,
          "inputWidgets": {},
          "nuid": "0bbc3088-0e6a-4ef3-ae51-f776a7f079ad"
        },
        "id": "d8RYkDLnVkH6",
        "outputId": "59ae65e8-b78f-414b-81f1-31f43e08d420",
        "colab": {
          "base_uri": "https://localhost:8080/",
          "height": 36
        }
      },
      "outputs": [
        {
          "output_type": "execute_result",
          "data": {
            "text/plain": [
              "'ABCD'"
            ],
            "application/vnd.google.colaboratory.intrinsic+json": {
              "type": "string"
            }
          },
          "metadata": {},
          "execution_count": 32
        }
      ],
      "execution_count": 32
    },
    {
      "cell_type": "markdown",
      "source": [
        "Haz doble click <b>aquí</b> para ver la solución.\n",
        "\n",
        "<!-- Your answer is below:\n",
        "print(D[:3])\n",
        "# or\n",
        "print(D[0:3])\n",
        "-->"
      ],
      "metadata": {
        "application/vnd.databricks.v1+cell": {
          "title": "",
          "showTitle": false,
          "inputWidgets": {},
          "nuid": "a13e5374-233c-4bd8-98c7-68393522680a"
        },
        "id": "MEM3RvNaVkH6"
      }
    },
    {
      "cell_type": "markdown",
      "source": [
        "Usa un valor de stride de 2 para imprimir cada segundo elemento de la cadena <code>E</code>:"
      ],
      "metadata": {
        "application/vnd.databricks.v1+cell": {
          "title": "",
          "showTitle": false,
          "inputWidgets": {},
          "nuid": "d4f53ebb-1961-48e4-9349-1a1cb3ed43ac"
        },
        "id": "Vvy8YtaAVkH6"
      }
    },
    {
      "cell_type": "code",
      "source": [
        "# 1. Asignación: E = \"clocrkr1e1c1t\".\n",
        "# 2. Slicing con stride: E[::2] toma cada 2° carácter.\n",
        "# 3. Resultado: E[::2] vale \"correct\" y se imprime correct.\n",
        "\n",
        "E = 'clocrkr1e1c1t'\n",
        "E[::2]"
      ],
      "metadata": {
        "collapsed": true,
        "application/vnd.databricks.v1+cell": {
          "title": "",
          "showTitle": false,
          "inputWidgets": {},
          "nuid": "f317b44a-0374-4bce-a3bc-6b0d29a1c342"
        },
        "id": "xjnaP12kVkH6",
        "outputId": "cfd32427-3ed2-446c-bafd-bd4dfe4ce2dc",
        "colab": {
          "base_uri": "https://localhost:8080/",
          "height": 36
        }
      },
      "outputs": [
        {
          "output_type": "execute_result",
          "data": {
            "text/plain": [
              "'correct'"
            ],
            "application/vnd.google.colaboratory.intrinsic+json": {
              "type": "string"
            }
          },
          "metadata": {},
          "execution_count": 33
        }
      ],
      "execution_count": 33
    },
    {
      "cell_type": "markdown",
      "source": [
        "Haz doble click <b>aquí</b> para ver la solución.\n",
        "<!-- Your answer is below:\n",
        "print(E[::2])\n",
        "-->"
      ],
      "metadata": {
        "application/vnd.databricks.v1+cell": {
          "title": "",
          "showTitle": false,
          "inputWidgets": {},
          "nuid": "4e105545-8319-47d1-922f-eac36fe75143"
        },
        "id": "JohjluwOVkH6"
      }
    },
    {
      "cell_type": "markdown",
      "source": [
        "Imprime una barra invertida:"
      ],
      "metadata": {
        "application/vnd.databricks.v1+cell": {
          "title": "",
          "showTitle": false,
          "inputWidgets": {},
          "nuid": "2169c64c-7206-4937-a581-0526a875b9d9"
        },
        "id": "7jHhai75VkH7"
      }
    },
    {
      "cell_type": "code",
      "source": [
        "# 1. Código: \"\\\\\" se usa para representar una sola barra invertida.\n",
        "# 2. Impresión: print(\"\\\\\") muestra el carácter especial.\n",
        "# 3. Resultado: Se imprime \\\n",
        "\n",
        "print(\"\\\\\")"
      ],
      "metadata": {
        "application/vnd.databricks.v1+cell": {
          "title": "",
          "showTitle": false,
          "inputWidgets": {},
          "nuid": "87af61d8-086c-4ca5-8684-c5573bac909c"
        },
        "id": "SOSxscRiVkH7",
        "outputId": "9975189b-54b8-4e02-9392-d8e1a0d68244",
        "colab": {
          "base_uri": "https://localhost:8080/"
        }
      },
      "outputs": [
        {
          "output_type": "stream",
          "name": "stdout",
          "text": [
            "\\\n"
          ]
        }
      ],
      "execution_count": 34
    },
    {
      "cell_type": "markdown",
      "source": [
        "Haz doble click <b>aquí</b> para ver la solución.\n",
        "<!-- Your answer is below:\n",
        "print(\"\\\\\")\n",
        "or\n",
        "print(r\" \\ \")\n",
        "-->"
      ],
      "metadata": {
        "application/vnd.databricks.v1+cell": {
          "title": "",
          "showTitle": false,
          "inputWidgets": {},
          "nuid": "30b509f5-df31-4eff-8534-2604cf6405b1"
        },
        "id": "2n7HotqTVkH7"
      }
    },
    {
      "cell_type": "markdown",
      "source": [
        "Convierte el mayúsculas el contenido de la variable <code>F</code>:"
      ],
      "metadata": {
        "application/vnd.databricks.v1+cell": {
          "title": "",
          "showTitle": false,
          "inputWidgets": {},
          "nuid": "6814f6cf-b035-4461-b318-7d7471cbcf94"
        },
        "id": "FvUOtWz4VkH7"
      }
    },
    {
      "cell_type": "code",
      "source": [
        "# 1. Asignación: F = \"You are wrong\".\n",
        "# 2. Método: F.upper() convierte todo a mayúsculas.\n",
        "# 3. Resultado: Se imprime \"YOU ARE WRONG\".\n",
        "\n",
        "F = \"You are wrong\"\n",
        "F.upper()"
      ],
      "metadata": {
        "application/vnd.databricks.v1+cell": {
          "title": "",
          "showTitle": false,
          "inputWidgets": {},
          "nuid": "034ad3a9-1ef9-419d-9362-8fd0286e5f47"
        },
        "id": "cHqzQSbmVkH7",
        "outputId": "3deccff1-68eb-4101-ffe5-9beaa083a592",
        "colab": {
          "base_uri": "https://localhost:8080/",
          "height": 36
        }
      },
      "outputs": [
        {
          "output_type": "execute_result",
          "data": {
            "text/plain": [
              "'YOU ARE WRONG'"
            ],
            "application/vnd.google.colaboratory.intrinsic+json": {
              "type": "string"
            }
          },
          "metadata": {},
          "execution_count": 35
        }
      ],
      "execution_count": 35
    },
    {
      "cell_type": "markdown",
      "source": [
        "Haz doble click <b>aquí</b> para ver la solución.\n",
        "\n",
        "<!-- Your answer is below:\n",
        "F.upper()\n",
        "-->"
      ],
      "metadata": {
        "application/vnd.databricks.v1+cell": {
          "title": "",
          "showTitle": false,
          "inputWidgets": {},
          "nuid": "59e29f55-1248-4d84-bcc5-e7fb01ef061f"
        },
        "id": "8go30kQ1VkH7"
      }
    },
    {
      "cell_type": "markdown",
      "source": [
        "En la variable <code>G</code>, encuentra el primer índice de la sub-cadena <code>snow</code>:"
      ],
      "metadata": {
        "application/vnd.databricks.v1+cell": {
          "title": "",
          "showTitle": false,
          "inputWidgets": {},
          "nuid": "89af9572-7b2e-4344-b61b-e832bddb897c"
        },
        "id": "9wQt2D5AVkH7"
      }
    },
    {
      "cell_type": "code",
      "source": [
        "# 1. Asignación: G guarda un texto largo con varias frases.\n",
        "# 2. Método: G.find(\"snow\") busca la primera posición de \"snow\".\n",
        "# 3. Resultado: Retorna 95, que es el índice donde empieza \"snow\".\n",
        "\n",
        "G = \"Mary had a little lamb Little lamb, little lamb Mary had a little lamb \\\n",
        "Its fleece was white as snow And everywhere that Mary went Mary went, Mary went \\\n",
        "Everywhere that Mary went The lamb was sure to go\"\n",
        "G.find(\"snow\")"
      ],
      "metadata": {
        "application/vnd.databricks.v1+cell": {
          "title": "",
          "showTitle": false,
          "inputWidgets": {},
          "nuid": "721a128c-d297-4149-bbdd-646140d2dd59"
        },
        "id": "bFelCEy6VkH7",
        "outputId": "eeb28394-addc-414b-9003-5b5646593136",
        "colab": {
          "base_uri": "https://localhost:8080/"
        }
      },
      "outputs": [
        {
          "output_type": "execute_result",
          "data": {
            "text/plain": [
              "95"
            ]
          },
          "metadata": {},
          "execution_count": 36
        }
      ],
      "execution_count": 36
    },
    {
      "cell_type": "markdown",
      "source": [
        "Haz doble click <b>aquí</b> para ver la solución.\n",
        "\n",
        "<!-- Your answer is below:\n",
        "G.find(\"snow\")\n",
        "-->"
      ],
      "metadata": {
        "application/vnd.databricks.v1+cell": {
          "title": "",
          "showTitle": false,
          "inputWidgets": {},
          "nuid": "09d9aaf0-769c-4a99-b68f-79d063bc676c"
        },
        "id": "XReQvkuFVkH7"
      }
    },
    {
      "cell_type": "markdown",
      "source": [
        "En la variable <code>G</code>, reemplaza la sub-cadena <code>Mary</code> con <code>Bob</code>:"
      ],
      "metadata": {
        "application/vnd.databricks.v1+cell": {
          "title": "",
          "showTitle": false,
          "inputWidgets": {},
          "nuid": "157b212b-6b79-4fe4-9284-f9e0e1f3dcd1"
        },
        "id": "O8XpplqAVkH7"
      }
    },
    {
      "cell_type": "code",
      "source": [
        "# 1. Método: G.replace(\"Mary\", \"Bob\") busca todas las ocurrencias de \"Mary\".\n",
        "# 2. Reemplazo: Cada \"Mary\" se cambia por \"Bob\".\n",
        "# 3. Resultado: Se imprime el texto con \"Mary\" reemplazado por \"Bob\".\n",
        "\n",
        "print(G.replace(\"Mary\", \"Bob\"))"
      ],
      "metadata": {
        "application/vnd.databricks.v1+cell": {
          "title": "",
          "showTitle": false,
          "inputWidgets": {},
          "nuid": "ea8ee7aa-cedd-40c2-8d01-35f09d62109d"
        },
        "id": "4q1w-8EwVkH8",
        "outputId": "45a402cf-1da9-4b17-8cc5-be3d22dfdd75",
        "colab": {
          "base_uri": "https://localhost:8080/"
        }
      },
      "outputs": [
        {
          "output_type": "stream",
          "name": "stdout",
          "text": [
            "Bob had a little lamb Little lamb, little lamb Bob had a little lamb Its fleece was white as snow And everywhere that Bob went Bob went, Bob went Everywhere that Bob went The lamb was sure to go\n"
          ]
        }
      ],
      "execution_count": 37
    },
    {
      "cell_type": "markdown",
      "source": [
        "Haz doble click <b>aquí</b> para ver la solución.\n",
        "\n",
        "<!-- Your answer is below:\n",
        "G.replace(\"Mary\", \"Bob\")\n",
        "-->"
      ],
      "metadata": {
        "application/vnd.databricks.v1+cell": {
          "title": "",
          "showTitle": false,
          "inputWidgets": {},
          "nuid": "514790a0-22d4-4593-9c3a-09f88054b89e"
        },
        "id": "MpKObuteVkH8"
      }
    }
  ],
  "metadata": {
    "kernelspec": {
      "display_name": "Python 3",
      "language": "python",
      "name": "python3"
    },
    "language_info": {
      "mimetype": "text/x-python",
      "name": "python",
      "pygments_lexer": "ipython3",
      "codemirror_mode": {
        "name": "ipython",
        "version": 3
      },
      "version": "3.8.3",
      "nbconvert_exporter": "python",
      "file_extension": ".py"
    },
    "application/vnd.databricks.v1+notebook": {
      "notebookName": "01-Python-Cadenas",
      "dashboards": [],
      "notebookMetadata": {
        "pythonIndentUnit": 2
      },
      "language": "python",
      "widgets": {},
      "notebookOrigID": 3377342904741170
    },
    "colab": {
      "provenance": []
    }
  },
  "nbformat": 4,
  "nbformat_minor": 0
}