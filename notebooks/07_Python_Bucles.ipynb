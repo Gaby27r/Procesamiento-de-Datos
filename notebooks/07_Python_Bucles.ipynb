{
  "cells": [
    {
      "cell_type": "markdown",
      "source": [
        "- **ID:** NB-07\n",
        "- **Autor/a:** Gabriela Rojas Martínez\n",
        "- **Curso/Grupo:** Procesamiento de Datos\n",
        "- **Fecha:** 2025-08-11\n",
        "- **Descripción:** Estructuras repetitivas `for` y `while`, y control de flujo en Python.\n",
        "- **Cómo ejecutar:** Activar entorno, instalar dependencias (`pip install -r requirements.txt`), abrir en Jupyter y ejecutar celdas en orden.\n"
      ],
      "metadata": {
        "id": "QMB98YwIXZQU"
      }
    },
    {
      "cell_type": "markdown",
      "source": [
        "<h1>Procesamiento de Datos a Gran Escala</h1>"
      ],
      "metadata": {
        "application/vnd.databricks.v1+cell": {
          "title": "",
          "showTitle": false,
          "inputWidgets": {},
          "nuid": "2d81f983-1431-4f32-a6ba-a1e1e71a1639"
        },
        "id": "glnjZumkXYbz"
      }
    },
    {
      "cell_type": "markdown",
      "source": [
        "<h2>Bucles en Python</h2>"
      ],
      "metadata": {
        "application/vnd.databricks.v1+cell": {
          "title": "",
          "showTitle": false,
          "inputWidgets": {},
          "nuid": "b18fe3a8-27b0-48ca-97ca-658fb8af5763"
        },
        "id": "bUuBXVpVXYb1"
      }
    },
    {
      "cell_type": "markdown",
      "source": [
        "<p><strong>¡Bienvenido!</strong> En este cuaderno aprenderás acerca de los bucles en el Lenguaje de Programacion Python. Al finalizar este laboratorio sabras como usar las sentencias de ciclado en Pyhon, incluidos los for y los while.</p>"
      ],
      "metadata": {
        "application/vnd.databricks.v1+cell": {
          "title": "",
          "showTitle": false,
          "inputWidgets": {},
          "nuid": "e6dc6cf7-ac99-4a2e-a9d2-b18cbcc8c1c6"
        },
        "id": "8GbjGV_-XYb2"
      }
    },
    {
      "cell_type": "markdown",
      "source": [
        "<h2>Tabla de Contenido</h2>\n",
        "<div class=\"alert alert-block alert-info\" style=\"margin-top: 20px\">\n",
        "    <ul>\n",
        "        <li>\n",
        "            <a href=\"#loop\">Bucles</a>\n",
        "            <ul>\n",
        "                <li><a href=\"range\">Rango</a></li>\n",
        "                <li><a href=\"for\">¿Qué es el bucle <code>for</code>?</a></li>\n",
        "                <li><a href=\"while\">¿Qué es el bucle <code>while</code>?</a></li>\n",
        "            </ul>\n",
        "        </li>\n",
        "        <li>\n",
        "            <a href=\"#quiz\">Cuestionario sobre Bucles</a>\n",
        "        </li>\n",
        "    </ul>\n",
        "    <p>\n",
        "        Tiempo Estimado: <strong>20 min</strong>\n",
        "    </p>\n",
        "</div>\n",
        "\n",
        "<hr>"
      ],
      "metadata": {
        "application/vnd.databricks.v1+cell": {
          "title": "",
          "showTitle": false,
          "inputWidgets": {},
          "nuid": "dbf1bb1d-5789-4510-bc7a-ebaf901f0a31"
        },
        "id": "uhG6ekbwXYb2"
      }
    },
    {
      "cell_type": "markdown",
      "source": [
        "<h2 id=\"loop\">Bucles</h2>"
      ],
      "metadata": {
        "application/vnd.databricks.v1+cell": {
          "title": "",
          "showTitle": false,
          "inputWidgets": {},
          "nuid": "d519dc22-23c7-4b9e-961f-474a743e26af"
        },
        "id": "qkNRHkL6XYb3"
      }
    },
    {
      "cell_type": "markdown",
      "source": [
        "<h3 id=\"range\">Rango</h3>"
      ],
      "metadata": {
        "application/vnd.databricks.v1+cell": {
          "title": "",
          "showTitle": false,
          "inputWidgets": {},
          "nuid": "3f1041cb-11a1-4c2d-9a87-98f21c2c6924"
        },
        "id": "m_8SPxqZXYb3"
      }
    },
    {
      "cell_type": "markdown",
      "source": [
        "En ocasiones, es necesario repetir la misma operación varias veces. La repetición de operaciones es una tarea de la que se encargan los <b>bucles</b>. Veremos dos tipos, el <code>for</code> y el <code>while</code>.\n",
        "\n",
        "Antes de discutir el tema de los bucles, hablemos primero del <code>range</code>. Es útil pensar en el rango como una lista ordenada. Por ahora, veamos un caso sencillo. Si quisiéramos generar una secuencia que contenga tres elementos ordenados desde 0 hasta 2 usaríamos este comando:"
      ],
      "metadata": {
        "application/vnd.databricks.v1+cell": {
          "title": "",
          "showTitle": false,
          "inputWidgets": {},
          "nuid": "d3e99b66-5550-4a82-9c99-9ed8acd57fc2"
        },
        "id": "niidW1aRXYb3"
      }
    },
    {
      "cell_type": "code",
      "source": [
        "# Usar el rango\n",
        "\n",
        "range(3)"
      ],
      "metadata": {
        "application/vnd.databricks.v1+cell": {
          "title": "",
          "showTitle": false,
          "inputWidgets": {},
          "nuid": "a03ac8ea-e31f-4522-98b8-489ed323991e"
        },
        "id": "-oa5vDDLXYb4",
        "outputId": "40ae81f5-f0d6-4651-d965-e56c06ddb4c5"
      },
      "outputs": [
        {
          "output_type": "display_data",
          "metadata": {
            "application/vnd.databricks.v1+output": {
              "data": "",
              "errorSummary": "",
              "metadata": {},
              "errorTraceType": null,
              "type": "ipynbError",
              "arguments": {}
            }
          },
          "data": {
            "text/html": [
              "<style scoped>\n  .ansiout {\n    display: block;\n    unicode-bidi: embed;\n    white-space: pre-wrap;\n    word-wrap: break-word;\n    word-break: break-all;\n    font-family: \"Source Code Pro\", \"Menlo\", monospace;;\n    font-size: 13px;\n    color: #555;\n    margin-left: 4px;\n    line-height: 19px;\n  }\n</style>"
            ]
          }
        }
      ],
      "execution_count": null
    },
    {
      "cell_type": "markdown",
      "source": [
        "<img src=\"https://s3-api.us-geo.objectstorage.softlayer.net/cf-courses-data/CognitiveClass/PY0101EN/Chapter%203/Images/LoopsRange.png\" width=\"300\" />"
      ],
      "metadata": {
        "application/vnd.databricks.v1+cell": {
          "title": "",
          "showTitle": false,
          "inputWidgets": {},
          "nuid": "daacd919-13b5-4b17-918f-92b01953210f"
        },
        "id": "87tv8XURXYb5"
      }
    },
    {
      "cell_type": "markdown",
      "source": [
        "<h3 id=\"for\">¿Qué es el bucle <code>for</code>?</h3>"
      ],
      "metadata": {
        "application/vnd.databricks.v1+cell": {
          "title": "",
          "showTitle": false,
          "inputWidgets": {},
          "nuid": "d2738d17-085f-47c7-aaf0-7d887c6b4adc"
        },
        "id": "yOnqkPcsXYb6"
      }
    },
    {
      "cell_type": "markdown",
      "source": [
        "El bucle <code>for</code> permite ejecutar un bloque de código múltiples veces. Por ejemplo, podrías usarlo si quisieras imprimir cada elemento en una lista. Usemos el bucle <code>for</code> para imprimir todos los años presentes en la lista <code>dates</code>:"
      ],
      "metadata": {
        "application/vnd.databricks.v1+cell": {
          "title": "",
          "showTitle": false,
          "inputWidgets": {},
          "nuid": "78284539-4bd6-41d4-a325-39fe28ff3139"
        },
        "id": "7ZziR7QcXYb6"
      }
    },
    {
      "cell_type": "markdown",
      "source": [
        "Esto puede hacerse de la siguiente forma:"
      ],
      "metadata": {
        "application/vnd.databricks.v1+cell": {
          "title": "",
          "showTitle": false,
          "inputWidgets": {},
          "nuid": "8151bf25-35a9-4d7c-ad00-b5f27194abae"
        },
        "id": "spCUpqkUXYb6"
      }
    },
    {
      "cell_type": "code",
      "source": [
        "# Ejemplo de un bucle for\n",
        "\n",
        "dates = [1982,1980,1973]\n",
        "N = len(dates)\n",
        "\n",
        "for i in range(N):\n",
        "    print(dates[i])"
      ],
      "metadata": {
        "application/vnd.databricks.v1+cell": {
          "title": "",
          "showTitle": false,
          "inputWidgets": {},
          "nuid": "40c42def-e235-447a-80a3-2faffef0c8dd"
        },
        "id": "ss6u1eHdXYb6",
        "outputId": "7ec100d8-8586-424b-c069-cdd61eed5b9e"
      },
      "outputs": [
        {
          "output_type": "display_data",
          "metadata": {
            "application/vnd.databricks.v1+output": {
              "data": "",
              "errorSummary": "",
              "metadata": {},
              "errorTraceType": null,
              "type": "ipynbError",
              "arguments": {}
            }
          },
          "data": {
            "text/html": [
              "<style scoped>\n  .ansiout {\n    display: block;\n    unicode-bidi: embed;\n    white-space: pre-wrap;\n    word-wrap: break-word;\n    word-break: break-all;\n    font-family: \"Source Code Pro\", \"Menlo\", monospace;;\n    font-size: 13px;\n    color: #555;\n    margin-left: 4px;\n    line-height: 19px;\n  }\n</style>"
            ]
          }
        }
      ],
      "execution_count": null
    },
    {
      "cell_type": "markdown",
      "source": [
        "El código con sangría es ejecutado <code>N</code> veces, el valor de <code>i</code> se incrementa en 1 por cada ejecución. La sentencia para ejecutar es <code>imprimir</code> el valor de la lista de acuerdo con el índice <code>i</code> como se muestra aquí:"
      ],
      "metadata": {
        "application/vnd.databricks.v1+cell": {
          "title": "",
          "showTitle": false,
          "inputWidgets": {},
          "nuid": "bddd74b7-179b-413e-a33f-c057be676a06"
        },
        "id": "pro-0BMFXYb6"
      }
    },
    {
      "cell_type": "markdown",
      "source": [
        "<img src=\"https://s3-api.us-geo.objectstorage.softlayer.net/cf-courses-data/CognitiveClass/PY0101EN/Chapter%203/Images/LoopsForRange.gif\" width=\"800\" />"
      ],
      "metadata": {
        "application/vnd.databricks.v1+cell": {
          "title": "",
          "showTitle": false,
          "inputWidgets": {},
          "nuid": "603d1038-e4cf-495f-a260-61563a66375b"
        },
        "id": "CKYkzjX7XYb7"
      }
    },
    {
      "cell_type": "markdown",
      "source": [
        "En este ejemplo imprimiremos una secuencia de números del 0 al 7:"
      ],
      "metadata": {
        "application/vnd.databricks.v1+cell": {
          "title": "",
          "showTitle": false,
          "inputWidgets": {},
          "nuid": "273470fb-8c71-450b-8a10-cd45696ec480"
        },
        "id": "r7b4QZdiXYb7"
      }
    },
    {
      "cell_type": "code",
      "source": [
        "# Ejemplo de un bucle for\n",
        "\n",
        "for i in range(0, 8):\n",
        "    print(i)"
      ],
      "metadata": {
        "application/vnd.databricks.v1+cell": {
          "title": "",
          "showTitle": false,
          "inputWidgets": {},
          "nuid": "822a2b77-b767-4460-bcd0-a24149bbc361"
        },
        "id": "-FbhG6r2XYb7",
        "outputId": "9a2aa43a-870a-4cd5-b8cf-e30de27546b5"
      },
      "outputs": [
        {
          "output_type": "display_data",
          "metadata": {
            "application/vnd.databricks.v1+output": {
              "data": "",
              "errorSummary": "",
              "metadata": {},
              "errorTraceType": null,
              "type": "ipynbError",
              "arguments": {}
            }
          },
          "data": {
            "text/html": [
              "<style scoped>\n  .ansiout {\n    display: block;\n    unicode-bidi: embed;\n    white-space: pre-wrap;\n    word-wrap: break-word;\n    word-break: break-all;\n    font-family: \"Source Code Pro\", \"Menlo\", monospace;;\n    font-size: 13px;\n    color: #555;\n    margin-left: 4px;\n    line-height: 19px;\n  }\n</style>"
            ]
          }
        }
      ],
      "execution_count": null
    },
    {
      "cell_type": "markdown",
      "source": [
        "En Python podemos acceder directamente a los elementos de la lista de la siguiente forma:"
      ],
      "metadata": {
        "application/vnd.databricks.v1+cell": {
          "title": "",
          "showTitle": false,
          "inputWidgets": {},
          "nuid": "0817d502-0bc4-4acd-9e6b-55ad3b4c2f4c"
        },
        "id": "t7OnJ9EoXYb7"
      }
    },
    {
      "cell_type": "code",
      "source": [
        "# Ejemplo de un bucle for en una lista\n",
        "\n",
        "for year in dates:\n",
        "    print(year)"
      ],
      "metadata": {
        "application/vnd.databricks.v1+cell": {
          "title": "",
          "showTitle": false,
          "inputWidgets": {},
          "nuid": "f3d3247c-9983-4092-b281-b2b118dadbc0"
        },
        "id": "43YEagzxXYb7",
        "outputId": "8ded76f8-88d4-45b4-91cd-2831e11df39e"
      },
      "outputs": [
        {
          "output_type": "display_data",
          "metadata": {
            "application/vnd.databricks.v1+output": {
              "data": "",
              "errorSummary": "",
              "metadata": {},
              "errorTraceType": null,
              "type": "ipynbError",
              "arguments": {}
            }
          },
          "data": {
            "text/html": [
              "<style scoped>\n  .ansiout {\n    display: block;\n    unicode-bidi: embed;\n    white-space: pre-wrap;\n    word-wrap: break-word;\n    word-break: break-all;\n    font-family: \"Source Code Pro\", \"Menlo\", monospace;;\n    font-size: 13px;\n    color: #555;\n    margin-left: 4px;\n    line-height: 19px;\n  }\n</style>"
            ]
          }
        }
      ],
      "execution_count": null
    },
    {
      "cell_type": "markdown",
      "source": [
        "Por cada iteración, el valor de la variable <code>years</code> se comporta de forma parecida al valor de <code>dates[i]</code> del primer ejemplo:"
      ],
      "metadata": {
        "application/vnd.databricks.v1+cell": {
          "title": "",
          "showTitle": false,
          "inputWidgets": {},
          "nuid": "ab377bcb-fb9a-4ca0-a967-df890a0cc2e9"
        },
        "id": "CRSpYGZHXYb7"
      }
    },
    {
      "cell_type": "markdown",
      "source": [
        "<img src=\"https://s3-api.us-geo.objectstorage.softlayer.net/cf-courses-data/CognitiveClass/PY0101EN/Chapter%203/Images/LoopsForList.gif\" width=\"800\">"
      ],
      "metadata": {
        "application/vnd.databricks.v1+cell": {
          "title": "",
          "showTitle": false,
          "inputWidgets": {},
          "nuid": "82b252e5-706a-4d33-af2d-191cfcedb7ea"
        },
        "id": "zjdV0GvXXYb8"
      }
    },
    {
      "cell_type": "markdown",
      "source": [
        "Podemos modificar los elementos en una lista:"
      ],
      "metadata": {
        "application/vnd.databricks.v1+cell": {
          "title": "",
          "showTitle": false,
          "inputWidgets": {},
          "nuid": "24b9470e-60f0-4edf-a0ad-05511e45f219"
        },
        "id": "tCjv5mOHXYb8"
      }
    },
    {
      "cell_type": "code",
      "source": [
        "# Usar el bucle for para cambiar los elementos de la lista\n",
        "\n",
        "squares = ['red', 'yellow', 'green', 'purple', 'blue']\n",
        "\n",
        "for i in range(0, 5):\n",
        "    print(\"Before square \", i, 'is',  squares[i])\n",
        "    squares[i] = 'weight'\n",
        "    print(\"After square \", i, 'is',  squares[i])"
      ],
      "metadata": {
        "application/vnd.databricks.v1+cell": {
          "title": "",
          "showTitle": false,
          "inputWidgets": {},
          "nuid": "f6338931-0f14-4101-8766-094b69653cb0"
        },
        "id": "SiwfV1EsXYb8",
        "outputId": "5efe209d-8bed-4986-9902-939a108fdc22"
      },
      "outputs": [
        {
          "output_type": "display_data",
          "metadata": {
            "application/vnd.databricks.v1+output": {
              "data": "",
              "errorSummary": "",
              "metadata": {},
              "errorTraceType": null,
              "type": "ipynbError",
              "arguments": {}
            }
          },
          "data": {
            "text/html": [
              "<style scoped>\n  .ansiout {\n    display: block;\n    unicode-bidi: embed;\n    white-space: pre-wrap;\n    word-wrap: break-word;\n    word-break: break-all;\n    font-family: \"Source Code Pro\", \"Menlo\", monospace;;\n    font-size: 13px;\n    color: #555;\n    margin-left: 4px;\n    line-height: 19px;\n  }\n</style>"
            ]
          }
        }
      ],
      "execution_count": null
    },
    {
      "cell_type": "markdown",
      "source": [
        "Podemos acceder al índice y los elementos de una lista de la siguiente manera:"
      ],
      "metadata": {
        "application/vnd.databricks.v1+cell": {
          "title": "",
          "showTitle": false,
          "inputWidgets": {},
          "nuid": "cd745203-fab1-4dfd-96e9-68a538d07396"
        },
        "id": "tNbieK4JXYb8"
      }
    },
    {
      "cell_type": "code",
      "source": [
        "# Bucle for en una lista haciendo iteraciones con el valor del índice y el elemento de la lista\n",
        "\n",
        "squares=['red', 'yellow', 'green', 'purple', 'blue']\n",
        "\n",
        "for i, square in enumerate(squares):\n",
        "    print(i, square)"
      ],
      "metadata": {
        "application/vnd.databricks.v1+cell": {
          "title": "",
          "showTitle": false,
          "inputWidgets": {},
          "nuid": "016c4c7a-69c8-444d-8912-cf4146543340"
        },
        "id": "QJqvviBBXYb8",
        "outputId": "e9c45048-f381-4fd9-f0bd-337815331a80"
      },
      "outputs": [
        {
          "output_type": "display_data",
          "metadata": {
            "application/vnd.databricks.v1+output": {
              "data": "",
              "errorSummary": "",
              "metadata": {},
              "errorTraceType": null,
              "type": "ipynbError",
              "arguments": {}
            }
          },
          "data": {
            "text/html": [
              "<style scoped>\n  .ansiout {\n    display: block;\n    unicode-bidi: embed;\n    white-space: pre-wrap;\n    word-wrap: break-word;\n    word-break: break-all;\n    font-family: \"Source Code Pro\", \"Menlo\", monospace;;\n    font-size: 13px;\n    color: #555;\n    margin-left: 4px;\n    line-height: 19px;\n  }\n</style>"
            ]
          }
        }
      ],
      "execution_count": null
    },
    {
      "cell_type": "markdown",
      "source": [
        "<h3 id=\"while\">¿Qué es el bucle <code>while</code>?</h3>"
      ],
      "metadata": {
        "application/vnd.databricks.v1+cell": {
          "title": "",
          "showTitle": false,
          "inputWidgets": {},
          "nuid": "4b9eb619-a696-426e-9a33-bb3e6176cac1"
        },
        "id": "E5zFr1t6XYb8"
      }
    },
    {
      "cell_type": "markdown",
      "source": [
        "Como puedes observar, el bucle <code>for</code> es utilizado para controlar el flujo de la repetición. Sin embargo, ¿Qué pasa cuando no sabemos en que momento detener el bucle? ¿Y si queremos mantener la ejecución de un bloque de código hasta que se cumpla cierta condición? El bucle <code>while</code> es una herramienta para ejecutar repetidamente en base a una condición. El bloque de código seguirá ejecutándose hasta que la condición lógica dada regresa un valor **Falso**."
      ],
      "metadata": {
        "application/vnd.databricks.v1+cell": {
          "title": "",
          "showTitle": false,
          "inputWidgets": {},
          "nuid": "4ac03115-70f1-4082-988f-3cd86c01df0d"
        },
        "id": "wHDCA8pgXYb8"
      }
    },
    {
      "cell_type": "markdown",
      "source": [
        "Supongamos que deseamos interactuar sobre la lista <code>dates</code> y detenernos en el año 1973, después imprimir el numero de iteraciones. Esto puede realizarse con el siguiente bloque de código:"
      ],
      "metadata": {
        "application/vnd.databricks.v1+cell": {
          "title": "",
          "showTitle": false,
          "inputWidgets": {},
          "nuid": "aa3bf35b-40bf-42b6-83a5-1813ee654667"
        },
        "id": "derhUZr1XYb8"
      }
    },
    {
      "cell_type": "code",
      "source": [
        "# Ejemplo de Bucle While\n",
        "\n",
        "dates = [1982, 1980, 1973, 2000]\n",
        "\n",
        "i = 0\n",
        "year = 0\n",
        "\n",
        "while(year != 1973):\n",
        "    year = dates[i]\n",
        "    i = i + 1\n",
        "    print(year)\n",
        "\n",
        "print(\"It took \", i ,\"repetitions to get out of loop.\")"
      ],
      "metadata": {
        "application/vnd.databricks.v1+cell": {
          "title": "",
          "showTitle": false,
          "inputWidgets": {},
          "nuid": "e38de729-ffb3-4c52-8d2a-5363691268c0"
        },
        "id": "jYTlJvmHXYb8",
        "outputId": "5f38656e-0092-4cb9-a002-e2d8e3d51d6b"
      },
      "outputs": [
        {
          "output_type": "display_data",
          "metadata": {
            "application/vnd.databricks.v1+output": {
              "data": "",
              "errorSummary": "",
              "metadata": {},
              "errorTraceType": null,
              "type": "ipynbError",
              "arguments": {}
            }
          },
          "data": {
            "text/html": [
              "<style scoped>\n  .ansiout {\n    display: block;\n    unicode-bidi: embed;\n    white-space: pre-wrap;\n    word-wrap: break-word;\n    word-break: break-all;\n    font-family: \"Source Code Pro\", \"Menlo\", monospace;;\n    font-size: 13px;\n    color: #555;\n    margin-left: 4px;\n    line-height: 19px;\n  }\n</style>"
            ]
          }
        }
      ],
      "execution_count": null
    },
    {
      "cell_type": "markdown",
      "source": [
        "Un bucle while interactua hasta que la condición en el argumento no es alcanzada, como se muestra en la imagen siguiente:"
      ],
      "metadata": {
        "application/vnd.databricks.v1+cell": {
          "title": "",
          "showTitle": false,
          "inputWidgets": {},
          "nuid": "a87ecef8-6365-4657-bf58-3fd71cf5560a"
        },
        "id": "ukvxez32XYb9"
      }
    },
    {
      "cell_type": "markdown",
      "source": [
        "<img src=\"https://s3-api.us-geo.objectstorage.softlayer.net/cf-courses-data/CognitiveClass/PY0101EN/Chapter%203/Images/LoopsWhile.gif\" width=\"650\" />"
      ],
      "metadata": {
        "application/vnd.databricks.v1+cell": {
          "title": "",
          "showTitle": false,
          "inputWidgets": {},
          "nuid": "cf88527f-6595-496e-8f69-9c9fc99c59d0"
        },
        "id": "YV8ygcNbXYb9"
      }
    },
    {
      "cell_type": "markdown",
      "source": [
        "<h2 id=\"quiz\">Cuestionario sobre Bucles</h2>"
      ],
      "metadata": {
        "application/vnd.databricks.v1+cell": {
          "title": "",
          "showTitle": false,
          "inputWidgets": {},
          "nuid": "13dd742a-1af0-44d0-b0e9-14c1dd99c385"
        },
        "id": "NbibWzeEXYb9"
      }
    },
    {
      "cell_type": "markdown",
      "source": [
        "Escribe un bucle <code>for</code> que imprima todos los elementos entre <b>-5</b> y <b>5</b> usando la función range."
      ],
      "metadata": {
        "application/vnd.databricks.v1+cell": {
          "title": "",
          "showTitle": false,
          "inputWidgets": {},
          "nuid": "81af31ba-7a10-493e-b23f-9b12105dcaa7"
        },
        "id": "3fm27bhmXYb9"
      }
    },
    {
      "cell_type": "code",
      "source": [
        "# Escribe abajo tu código y presiona Shift+Enter para ejecutarlo"
      ],
      "metadata": {
        "application/vnd.databricks.v1+cell": {
          "title": "",
          "showTitle": false,
          "inputWidgets": {},
          "nuid": "72142fee-fe84-4eba-a564-289b7e841eb6"
        },
        "id": "-V4pNVsFXYb9",
        "outputId": "140ee849-bd95-489a-abae-e039c648c245"
      },
      "outputs": [
        {
          "output_type": "display_data",
          "metadata": {
            "application/vnd.databricks.v1+output": {
              "data": "",
              "errorSummary": "",
              "metadata": {},
              "errorTraceType": null,
              "type": "ipynbError",
              "arguments": {}
            }
          },
          "data": {
            "text/html": [
              "<style scoped>\n  .ansiout {\n    display: block;\n    unicode-bidi: embed;\n    white-space: pre-wrap;\n    word-wrap: break-word;\n    word-break: break-all;\n    font-family: \"Source Code Pro\", \"Menlo\", monospace;;\n    font-size: 13px;\n    color: #555;\n    margin-left: 4px;\n    line-height: 19px;\n  }\n</style>"
            ]
          }
        }
      ],
      "execution_count": null
    },
    {
      "cell_type": "markdown",
      "source": [
        "Haz doble click __aquí__ para ver la solución.\n",
        "<!--\n",
        "for i in range(-5, 6):\n",
        "    print(i)\n",
        "-->"
      ],
      "metadata": {
        "application/vnd.databricks.v1+cell": {
          "title": "",
          "showTitle": false,
          "inputWidgets": {},
          "nuid": "93865fd1-fac9-4071-ad26-ec9af28aba48"
        },
        "id": "px_MwtKDXYb9"
      }
    },
    {
      "cell_type": "markdown",
      "source": [
        "Imprime los elementos de la siguiente lista:\n",
        "<code>Genres=[ 'rock', 'R&B', 'Soundtrack', 'R&B', 'soul', 'pop']</code>\n",
        "Y asegúrate de seguir las convenciones del lenguaje Python"
      ],
      "metadata": {
        "application/vnd.databricks.v1+cell": {
          "title": "",
          "showTitle": false,
          "inputWidgets": {},
          "nuid": "3da3d294-9b49-405c-8e26-a05da1df7abf"
        },
        "id": "22bu22-oXYb9"
      }
    },
    {
      "cell_type": "code",
      "source": [
        "# Escribe abajo tu código y presiona Shift+Enter para ejecutarlo"
      ],
      "metadata": {
        "application/vnd.databricks.v1+cell": {
          "title": "",
          "showTitle": false,
          "inputWidgets": {},
          "nuid": "83783312-04ee-4cc1-a8fa-c4ad3ac3d6c4"
        },
        "id": "ia3EqU0BXYb-",
        "outputId": "359081d5-19ec-4752-b298-34d0fd3e9471"
      },
      "outputs": [
        {
          "output_type": "display_data",
          "metadata": {
            "application/vnd.databricks.v1+output": {
              "data": "",
              "errorSummary": "",
              "metadata": {},
              "errorTraceType": null,
              "type": "ipynbError",
              "arguments": {}
            }
          },
          "data": {
            "text/html": [
              "<style scoped>\n  .ansiout {\n    display: block;\n    unicode-bidi: embed;\n    white-space: pre-wrap;\n    word-wrap: break-word;\n    word-break: break-all;\n    font-family: \"Source Code Pro\", \"Menlo\", monospace;;\n    font-size: 13px;\n    color: #555;\n    margin-left: 4px;\n    line-height: 19px;\n  }\n</style>"
            ]
          }
        }
      ],
      "execution_count": null
    },
    {
      "cell_type": "markdown",
      "source": [
        "Haz doble click __aquí__ para ver la solución.\n",
        "<!--\n",
        "Genres = ['rock', 'R&B', 'Soundtrack', 'R&B', 'soul', 'pop']\n",
        "for Genre in Genres:\n",
        "    print(Genre)\n",
        "-->"
      ],
      "metadata": {
        "application/vnd.databricks.v1+cell": {
          "title": "",
          "showTitle": false,
          "inputWidgets": {},
          "nuid": "dbb3e069-f4d8-4460-8827-c0f5a372d528"
        },
        "id": "JzGiGdgFXYb-"
      }
    },
    {
      "cell_type": "markdown",
      "source": [
        "<hr>"
      ],
      "metadata": {
        "application/vnd.databricks.v1+cell": {
          "title": "",
          "showTitle": false,
          "inputWidgets": {},
          "nuid": "827c8d12-caf0-4850-9d8b-acfbb987a92a"
        },
        "id": "mHKbaP6aXYb-"
      }
    },
    {
      "cell_type": "markdown",
      "source": [
        "Escribe un bucle for que imprima la siguiente lista: <code>squares=['red', 'yellow', 'green', 'purple', 'blue']</code>"
      ],
      "metadata": {
        "application/vnd.databricks.v1+cell": {
          "title": "",
          "showTitle": false,
          "inputWidgets": {},
          "nuid": "dbe6652e-ecbe-4853-b580-d7a59de1c638"
        },
        "id": "vI9Lu0eBXYb-"
      }
    },
    {
      "cell_type": "code",
      "source": [
        "# Escribe abajo tu código y presiona Shift+Enter para ejecutarlo"
      ],
      "metadata": {
        "application/vnd.databricks.v1+cell": {
          "title": "",
          "showTitle": false,
          "inputWidgets": {},
          "nuid": "9cd58c3a-0f2c-498d-8617-f9fcf3f4cade"
        },
        "id": "wkgGvlitXYb-",
        "outputId": "5e2f1be0-e6c8-4144-a754-e5a913299007"
      },
      "outputs": [
        {
          "output_type": "display_data",
          "metadata": {
            "application/vnd.databricks.v1+output": {
              "data": "",
              "errorSummary": "",
              "metadata": {},
              "errorTraceType": null,
              "type": "ipynbError",
              "arguments": {}
            }
          },
          "data": {
            "text/html": [
              "<style scoped>\n  .ansiout {\n    display: block;\n    unicode-bidi: embed;\n    white-space: pre-wrap;\n    word-wrap: break-word;\n    word-break: break-all;\n    font-family: \"Source Code Pro\", \"Menlo\", monospace;;\n    font-size: 13px;\n    color: #555;\n    margin-left: 4px;\n    line-height: 19px;\n  }\n</style>"
            ]
          }
        }
      ],
      "execution_count": null
    },
    {
      "cell_type": "markdown",
      "source": [
        "Haz doble click __aquí__ para ver la solución.\n",
        "<!--\n",
        "squares=['red', 'yellow', 'green', 'purple', 'blue']\n",
        "for square in squares:\n",
        "    print(square)\n",
        " -->"
      ],
      "metadata": {
        "application/vnd.databricks.v1+cell": {
          "title": "",
          "showTitle": false,
          "inputWidgets": {},
          "nuid": "106fb4b6-915c-4cae-9f9a-2c4312918474"
        },
        "id": "0fY-t8r9XYb_"
      }
    },
    {
      "cell_type": "markdown",
      "source": [
        "Escribe un bucle while que muestre los valores de la calificación de las canciones de un disco almacenados en la lista <code>PlayListRatings</code>. Si la calificación es menor a 6, sal del bucle. La lista <code>PlayListRatings</code> esta compuesta por: <code>PlayListRatings = [10, 9.5, 10, 8, 7.5, 5, 10, 10]</code>"
      ],
      "metadata": {
        "application/vnd.databricks.v1+cell": {
          "title": "",
          "showTitle": false,
          "inputWidgets": {},
          "nuid": "70563c85-00cd-44c5-81b2-a9497b12f7ab"
        },
        "id": "_0JRP3E4XYb_"
      }
    },
    {
      "cell_type": "code",
      "source": [
        "# Escribe abajo tu código y presiona Shift+Enter para ejecutarlo"
      ],
      "metadata": {
        "collapsed": true,
        "application/vnd.databricks.v1+cell": {
          "title": "",
          "showTitle": false,
          "inputWidgets": {},
          "nuid": "236b2d5d-3544-4c9f-9609-bd1f57362965"
        },
        "id": "7r__4pUsXYb_",
        "outputId": "65e0607c-0071-4fd2-97ed-df523fffcb26"
      },
      "outputs": [
        {
          "output_type": "display_data",
          "metadata": {
            "application/vnd.databricks.v1+output": {
              "data": "",
              "errorSummary": "",
              "metadata": {},
              "errorTraceType": null,
              "type": "ipynbError",
              "arguments": {}
            }
          },
          "data": {
            "text/html": [
              "<style scoped>\n  .ansiout {\n    display: block;\n    unicode-bidi: embed;\n    white-space: pre-wrap;\n    word-wrap: break-word;\n    word-break: break-all;\n    font-family: \"Source Code Pro\", \"Menlo\", monospace;;\n    font-size: 13px;\n    color: #555;\n    margin-left: 4px;\n    line-height: 19px;\n  }\n</style>"
            ]
          }
        }
      ],
      "execution_count": null
    },
    {
      "cell_type": "markdown",
      "source": [
        "Haz doble click __aquí__ para ver la solución.\n",
        "<!--\n",
        "PlayListRatings = [10, 9.5, 10, 8, 7.5, 5, 10, 10]\n",
        "i = 1\n",
        "Rating = PlayListRatings[0]\n",
        "while(Rating >= 6):\n",
        "    print(Rating)\n",
        "    Rating = PlayListRatings[i]\n",
        "    i = i + 1\n",
        " -->"
      ],
      "metadata": {
        "application/vnd.databricks.v1+cell": {
          "title": "",
          "showTitle": false,
          "inputWidgets": {},
          "nuid": "a8240ab6-d69b-4571-99f6-f8f5d3afa081"
        },
        "id": "45mxbgfJXYb_"
      }
    },
    {
      "cell_type": "markdown",
      "source": [
        "Escribe un bucle while que copie las cadenas <code>'orange'</code> de la lista <code>squares</code> a la lista <code>new_squares</code>. Detente y sal del ciclo si el valor en la lista no es <code>'orange'</code>:"
      ],
      "metadata": {
        "application/vnd.databricks.v1+cell": {
          "title": "",
          "showTitle": false,
          "inputWidgets": {},
          "nuid": "f96aefc1-4d11-4084-a79d-03e337af70aa"
        },
        "id": "cgYcPZ6lXYb_"
      }
    },
    {
      "cell_type": "code",
      "source": [
        "# Escribe abajo tu código y presiona Shift+Enter para ejecutarlo\n",
        "\n",
        "squares = ['orange', 'orange', 'purple', 'blue ', 'orange']\n",
        "new_squares = []"
      ],
      "metadata": {
        "application/vnd.databricks.v1+cell": {
          "title": "",
          "showTitle": false,
          "inputWidgets": {},
          "nuid": "acdff223-9bed-4ac4-b095-fdbbe2a10b0f"
        },
        "id": "LCOzrixxXYb_",
        "outputId": "512ab625-2c23-41a5-91ab-4fdc9a80ead3"
      },
      "outputs": [
        {
          "output_type": "display_data",
          "metadata": {
            "application/vnd.databricks.v1+output": {
              "data": "",
              "errorSummary": "",
              "metadata": {},
              "errorTraceType": null,
              "type": "ipynbError",
              "arguments": {}
            }
          },
          "data": {
            "text/html": [
              "<style scoped>\n  .ansiout {\n    display: block;\n    unicode-bidi: embed;\n    white-space: pre-wrap;\n    word-wrap: break-word;\n    word-break: break-all;\n    font-family: \"Source Code Pro\", \"Menlo\", monospace;;\n    font-size: 13px;\n    color: #555;\n    margin-left: 4px;\n    line-height: 19px;\n  }\n</style>"
            ]
          }
        }
      ],
      "execution_count": null
    },
    {
      "cell_type": "markdown",
      "source": [
        "Haz doble click __aquí__ para ver la solución.\n",
        "<!--\n",
        "squares = ['orange', 'orange', 'purple', 'blue ', 'orange']\n",
        "new_squares = []\n",
        "i = 0\n",
        "while(squares[i] == 'orange'):\n",
        "    new_squares.append(squares[i])\n",
        "    i = i + 1\n",
        "print (new_squares)\n",
        " -->"
      ],
      "metadata": {
        "application/vnd.databricks.v1+cell": {
          "title": "",
          "showTitle": false,
          "inputWidgets": {},
          "nuid": "3a2ba6a5-6cec-4c6b-909d-f754a0498cd3"
        },
        "id": "CiDppOJ0XYb_"
      }
    }
  ],
  "metadata": {
    "kernelspec": {
      "display_name": "Python 3",
      "language": "python",
      "name": "python3"
    },
    "language_info": {
      "mimetype": "text/x-python",
      "name": "python",
      "pygments_lexer": "ipython3",
      "codemirror_mode": {
        "name": "ipython",
        "version": 3
      },
      "version": "3.7.7",
      "nbconvert_exporter": "python",
      "file_extension": ".py"
    },
    "application/vnd.databricks.v1+notebook": {
      "notebookName": "07-Python-Bucles",
      "dashboards": [],
      "notebookMetadata": {
        "pythonIndentUnit": 2
      },
      "language": "python",
      "widgets": {},
      "notebookOrigID": 3296315911138751
    },
    "colab": {
      "provenance": []
    }
  },
  "nbformat": 4,
  "nbformat_minor": 0
}