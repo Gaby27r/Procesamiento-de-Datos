{
  "cells": [
    {
      "cell_type": "markdown",
      "source": [
        "<h1>Procesamiento de Datos a Gran Escala</h1>"
      ],
      "metadata": {
        "application/vnd.databricks.v1+cell": {
          "title": "",
          "showTitle": false,
          "inputWidgets": {},
          "nuid": "c125ca6f-d5f8-49e8-8bbd-abfd410505b6"
        },
        "id": "tp6r01pkXrhW"
      }
    },
    {
      "cell_type": "markdown",
      "source": [
        "- **ID:** NB-09\n",
        "- **Autor/a:** Gabriela Rojas Martínez\n",
        "- **Curso/Grupo:** Procesamiento de Datos\n",
        "- **Fecha:** 2025-08-11\n",
        "- **Descripción:** Introducción a la Programación Orientada a Objetos (POO), definición de clases, atributos y métodos en Python.\n",
        "- **Cómo ejecutar:** Activar entorno, instalar dependencias (`pip install -r requirements.txt`), abrir en Jupyter y ejecutar celdas en orden.\n"
      ],
      "metadata": {
        "id": "0eHldQ6nXsEv"
      }
    },
    {
      "cell_type": "markdown",
      "source": [
        "## Ejecución de actividades\n",
        "1. Abrir este cuaderno en Jupyter Notebook o Google Colab.\n",
        "2. Ejecutar las celdas en orden.\n",
        "3. Observar ejemplos de clases y objetos.\n",
        "\n",
        "## Instrucciones y algoritmo\n",
        "\n",
        "**Instrucciones:**\n",
        "- Introducir la Programación Orientada a Objetos (POO) en Python.\n",
        "\n",
        "**Algoritmo:**\n",
        "1. Definir una clase con atributos y métodos.\n",
        "2. Crear instancias (objetos) de la clase.\n",
        "3. Acceder y modificar atributos.\n",
        "4. Llamar métodos y mostrar resultados.\n"
      ],
      "metadata": {
        "id": "EE4IznSddhLm"
      }
    },
    {
      "cell_type": "markdown",
      "source": [
        "<h2>Clases y Objetos en Python</h2>"
      ],
      "metadata": {
        "application/vnd.databricks.v1+cell": {
          "title": "",
          "showTitle": false,
          "inputWidgets": {},
          "nuid": "6eb782eb-da69-4439-9143-6aae97435873"
        },
        "id": "mtP2cCobXrhY"
      }
    },
    {
      "cell_type": "markdown",
      "source": [
        "<p>\n",
        "    <strong>¡Bienvenido!</strong>\n",
        "    Los objetos en programación son parecidos a los de la vida real. Al igual que los reales, hay distintos tipos de objetos. En este cuaderno, crearemos dos clases llamadas Circulo y Rectángulo. Al final, tendrás una idea mas clara acerca de:\n",
        "    <ul>\n",
        "        <li>Qué es una clase</li>\n",
        "        <li>Qué es un atributo</li>\n",
        "        <li>Qué es un método</li>\n",
        "    </ul>\n",
        "\n",
        "No te preocupes si no lo entiendes la primera vez ya que la terminología es confusa. No olvides hacer los exámenes de este cuaderno.\n",
        "</p>"
      ],
      "metadata": {
        "application/vnd.databricks.v1+cell": {
          "title": "",
          "showTitle": false,
          "inputWidgets": {},
          "nuid": "0d006039-1f26-444d-8ae7-63c5f1df5d62"
        },
        "id": "XvI0hMyDXrhY"
      }
    },
    {
      "cell_type": "markdown",
      "source": [
        "<h2>Tabla de Contenido</h2>\n",
        "<div class=\"alert alert-block alert-info\" style=\"margin-top: 20px\">\n",
        "    <ul>\n",
        "        <li>\n",
        "            <a href=\"#intro\">Introducción a las Clases y Objetos</a>\n",
        "            <ul>\n",
        "                <li><a href=\"create\">Crear una Clase</a></li>\n",
        "                <li><a href=\"instance\">Instancias de la Clase: Objetos y Atributos</a></li>\n",
        "                <li><a href=\"method\">Métodos</a></li>\n",
        "            </ul>\n",
        "        </li>\n",
        "        <li><a href=\"creating\">Crear una Clase</a></li>\n",
        "        <li><a href=\"circle\">Crear una instancia de la clase Circulo</a></li>\n",
        "        <li><a href=\"rect\">La Clase Rectángulo</a></li>\n",
        "    </ul>\n",
        "    <p>\n",
        "        Tiempo Estimado: <strong>40 min</strong>\n",
        "    </p>\n",
        "</div>\n",
        "\n",
        "<hr>"
      ],
      "metadata": {
        "application/vnd.databricks.v1+cell": {
          "title": "",
          "showTitle": false,
          "inputWidgets": {},
          "nuid": "a3dc6900-ec31-4351-992a-f16c86361fcf"
        },
        "id": "P1J35qa7XrhY"
      }
    },
    {
      "cell_type": "markdown",
      "source": [
        "<h2 id=\"intro\">Introducción a las Clases y Objetos</h2>"
      ],
      "metadata": {
        "application/vnd.databricks.v1+cell": {
          "title": "",
          "showTitle": false,
          "inputWidgets": {},
          "nuid": "bce041f1-5aea-401a-a55c-6bf33d730b10"
        },
        "id": "Yc1vaq8FXrhZ"
      }
    },
    {
      "cell_type": "markdown",
      "source": [
        "<h3>Crear una Clase</h3>"
      ],
      "metadata": {
        "application/vnd.databricks.v1+cell": {
          "title": "",
          "showTitle": false,
          "inputWidgets": {},
          "nuid": "487369ab-06d6-480e-b747-85f2b8baf73b"
        },
        "id": "5YBFIzq7XrhZ"
      }
    },
    {
      "cell_type": "markdown",
      "source": [
        "Lo primero al crear una clase es darle un nombre: En este cuaderno, crearemos dos clases, Circulo y Rectángulo. Tenemos que determinar los datos necesarios para hacer esa clase, a esos datos le llamamos atributos. Puedes pensar en este paso como la creación de un plano que después usaremos para construir objetos. En la imagen 1 podemos ver dos clases, circulo (Circle) y rectángulo (Rectangle). Cada una posee atributos, en forma de variables. La clase circulo tiene los atributos: radius y color, la clase rectángulo posee los atributos height y width (altura y ancho en inglés respectivamente). Usemos algunos ejemplos visuales de estas figuras antes de ver el código, esto ayudara a que te familiarices con el vocabulario."
      ],
      "metadata": {
        "application/vnd.databricks.v1+cell": {
          "title": "",
          "showTitle": false,
          "inputWidgets": {},
          "nuid": "2e5aade0-1460-47d5-a8a8-2ef26864ede3"
        },
        "id": "94gXnmeSXrhZ"
      }
    },
    {
      "cell_type": "markdown",
      "source": [
        "<img src=\"https://s3-api.us-geo.objectstorage.softlayer.net/cf-courses-data/CognitiveClass/PY0101EN/Chapter%203/Images/ClassesClass.png\" width=\"500\" />"
      ],
      "metadata": {
        "application/vnd.databricks.v1+cell": {
          "title": "",
          "showTitle": false,
          "inputWidgets": {},
          "nuid": "09188d4b-7e41-4620-83b7-fa7a534dff21"
        },
        "id": "hkBPzkOxXrhZ"
      }
    },
    {
      "cell_type": "markdown",
      "source": [
        "<i> Figura 1: Clases circle y rectangle, cada una tiene sus atributos. La clase circle tiene los atributos radius y colour, la clase rectángulo posee los atributos height y width (altura y ancho en inglés respectivamente).</i>"
      ],
      "metadata": {
        "application/vnd.databricks.v1+cell": {
          "title": "",
          "showTitle": false,
          "inputWidgets": {},
          "nuid": "4c8fb176-414f-4ead-bbf4-22200e737092"
        },
        "id": "0gDRBa5UXrha"
      }
    },
    {
      "cell_type": "markdown",
      "source": [
        "<h3 id=\"instance\">Instancias de la Clase: Objetos y Atributos</h3>"
      ],
      "metadata": {
        "application/vnd.databricks.v1+cell": {
          "title": "",
          "showTitle": false,
          "inputWidgets": {},
          "nuid": "3692cbc6-f2f1-49ff-acdb-51f3a1bf410f"
        },
        "id": "EunbmN5sXrha"
      }
    },
    {
      "cell_type": "markdown",
      "source": [
        "Una instancia de objeto es producto de una clase, en la figura 2 podemos ver tres instancias de la clase circle. Le damos a cada objeto el nombre: red circle (círculo rojo), yellow circle (círculo amarillo) y green circle (círculo verde). Cada uno tiene distintos atributos, enfoquémonos por ahora en el atributo colour (color) de cada objeto."
      ],
      "metadata": {
        "application/vnd.databricks.v1+cell": {
          "title": "",
          "showTitle": false,
          "inputWidgets": {},
          "nuid": "c611db93-6e65-445a-bfe2-6a51c0d30cdd"
        },
        "id": "XxNloyOkXrha"
      }
    },
    {
      "cell_type": "markdown",
      "source": [
        "<img src=\"https://s3-api.us-geo.objectstorage.softlayer.net/cf-courses-data/CognitiveClass/PY0101EN/Chapter%203/Images/ClassesObj.png\" width=\"500\" />"
      ],
      "metadata": {
        "application/vnd.databricks.v1+cell": {
          "title": "",
          "showTitle": false,
          "inputWidgets": {},
          "nuid": "b709cb6d-0633-4633-9c7e-ce0cd030c7da"
        },
        "id": "z86NFQ_5Xrha"
      }
    },
    {
      "cell_type": "markdown",
      "source": [
        "<i>Figura 2: Tres instancias de la clase circle o, dicho de otra forma, tres objetos de tipo circle.</i>"
      ],
      "metadata": {
        "application/vnd.databricks.v1+cell": {
          "title": "",
          "showTitle": false,
          "inputWidgets": {},
          "nuid": "73b2b294-a283-43c9-9da6-d06ab406dfb6"
        },
        "id": "ASdeLeZpXrha"
      }
    },
    {
      "cell_type": "markdown",
      "source": [
        "El atributo colour para el círculo rojo es el color rojo, para el círculo verde será el verde y amarillo para el círculo amarillo."
      ],
      "metadata": {
        "application/vnd.databricks.v1+cell": {
          "title": "",
          "showTitle": false,
          "inputWidgets": {},
          "nuid": "3adde101-db51-406f-8817-98b193e9cdaf"
        },
        "id": "J8apoabYXrha"
      }
    },
    {
      "cell_type": "markdown",
      "source": [
        "<h3 id=\"method\">Métodos</h3>"
      ],
      "metadata": {
        "application/vnd.databricks.v1+cell": {
          "title": "",
          "showTitle": false,
          "inputWidgets": {},
          "nuid": "01192bff-d306-4107-8346-7aec315c5223"
        },
        "id": "eQexiC3WXrhb"
      }
    },
    {
      "cell_type": "markdown",
      "source": [
        "Los métodos permiten cambiar o interactuar con el objeto; los métodos son funciones que interactúan con los objetos. Por ejemplo, digamos que queremos incrementar el radio (radius) de un círculo. Podemos crear un método llamado **add_radius(r)** que incremenete el radio por **r**. Esto se muestra en la figura 3, donde después de usar el método al objeto “orange circle”, el radio aumenta. El “punto” significa que el método será aplica a ese objeto, que en esencia es ejecutar una función sobre la información del objeto."
      ],
      "metadata": {
        "application/vnd.databricks.v1+cell": {
          "title": "",
          "showTitle": false,
          "inputWidgets": {},
          "nuid": "fb7679e5-79e9-4bee-9954-9e6662dbdfac"
        },
        "id": "yYa0yaYMXrhb"
      }
    },
    {
      "cell_type": "markdown",
      "source": [
        "<img src=\"https://s3-api.us-geo.objectstorage.softlayer.net/cf-courses-data/CognitiveClass/PY0101EN/Chapter%203/Images/ClassesMethod.png\" width=\"500\" />"
      ],
      "metadata": {
        "application/vnd.databricks.v1+cell": {
          "title": "",
          "showTitle": false,
          "inputWidgets": {},
          "nuid": "8f4cf72a-06c6-448e-9208-c20997a7ba2c"
        },
        "id": "Heo7092gXrhb"
      }
    },
    {
      "cell_type": "markdown",
      "source": [
        "<i>Figura 3: Aplicar el método “add_radius” al objeto “orange circle”.</i>"
      ],
      "metadata": {
        "application/vnd.databricks.v1+cell": {
          "title": "",
          "showTitle": false,
          "inputWidgets": {},
          "nuid": "5e80dc26-5f4d-4ee3-b896-e93f76da7ce1"
        },
        "id": "x5M1L7OiXrhb"
      }
    },
    {
      "cell_type": "markdown",
      "source": [
        "<h2 id=\"creating\">Crear una Clase</h2>"
      ],
      "metadata": {
        "application/vnd.databricks.v1+cell": {
          "title": "",
          "showTitle": false,
          "inputWidgets": {},
          "nuid": "ce4516bd-ac83-4694-b6eb-b0536871a320"
        },
        "id": "AxPiDUgfXrhb"
      }
    },
    {
      "cell_type": "markdown",
      "source": [
        "Creemos ahora una clase circle, pero primero, importemos una librería para dibujar objetos:"
      ],
      "metadata": {
        "application/vnd.databricks.v1+cell": {
          "title": "",
          "showTitle": false,
          "inputWidgets": {},
          "nuid": "88abd82a-5f55-4e96-a0c4-4508217d32b9"
        },
        "id": "23PZ6UE0Xrhb"
      }
    },
    {
      "cell_type": "code",
      "source": [
        "# Importar la librería\n",
        "\n",
        "import matplotlib.pyplot as plt\n",
        "%matplotlib inline"
      ],
      "metadata": {
        "collapsed": true,
        "application/vnd.databricks.v1+cell": {
          "title": "",
          "showTitle": false,
          "inputWidgets": {},
          "nuid": "6c2dc251-7120-4d7c-92ff-302e4d6723a8"
        },
        "id": "67UjA5WAXrhb"
      },
      "outputs": [],
      "execution_count": null
    },
    {
      "cell_type": "markdown",
      "source": [
        "El primer paso en la creación de nuestra clase es usar la palabra reservada <code>class</code>, y después el nombre de la clase como se muestra en la figura 4. En este curso la clase padre será siempre objeto:"
      ],
      "metadata": {
        "application/vnd.databricks.v1+cell": {
          "title": "",
          "showTitle": false,
          "inputWidgets": {},
          "nuid": "733408b7-0f7b-4038-90ba-4eb5ef5e55ee"
        },
        "id": "f-xWTr39Xrhc"
      }
    },
    {
      "cell_type": "markdown",
      "source": [
        "<img src=\"https://s3-api.us-geo.objectstorage.softlayer.net/cf-courses-data/CognitiveClass/PY0101EN/Chapter%203/Images/ClassesDefine.png\" width=\"400\" />"
      ],
      "metadata": {
        "application/vnd.databricks.v1+cell": {
          "title": "",
          "showTitle": false,
          "inputWidgets": {},
          "nuid": "0e2ededa-a066-42fa-819a-a7011a3dc21a"
        },
        "id": "fM0uBKJCXrhc"
      }
    },
    {
      "cell_type": "markdown",
      "source": [
        "<i>Figura 4: Tres instancias de la clase circle o, dicho de otra forma, tres objetos de tipo circle.</i>"
      ],
      "metadata": {
        "application/vnd.databricks.v1+cell": {
          "title": "",
          "showTitle": false,
          "inputWidgets": {},
          "nuid": "80f87dfe-0b04-4362-91c5-b3543c5699b7"
        },
        "id": "y1zdrRiFXrhc"
      }
    },
    {
      "cell_type": "markdown",
      "source": [
        "El siguiente paso es el método especial llamado constructor <code>&#95;&#95;init&#95;&#95;</code>, que es usado para inicializar el objeto. La entrada son datos para los atributos. El termino <code>self</code> contiene todos los atributos del grupo. Por ejemplo <code>self.color</code> asigna el valor del atributo color y <code>self.radius</code> valor del radio. También tenemos el método <code>add_radius()</code> con el parámetro <code>r</code>, el método suma el valor de <code>r</code> al atributo radius. Para acceder al valor de radius usamos la sintaxis <code>self.radius</code>. El etiquetado se resume en la Figura 5."
      ],
      "metadata": {
        "application/vnd.databricks.v1+cell": {
          "title": "",
          "showTitle": false,
          "inputWidgets": {},
          "nuid": "82e406ce-7acc-4e62-bb2c-6153c7b67c34"
        },
        "id": "_8MK_mP1Xrhc"
      }
    },
    {
      "cell_type": "markdown",
      "source": [
        "<img src=\"https://s3-api.us-geo.objectstorage.softlayer.net/cf-courses-data/CognitiveClass/PY0101EN/Chapter%203/Images/ClassesCircle.png\" width=\"600\" />"
      ],
      "metadata": {
        "application/vnd.databricks.v1+cell": {
          "title": "",
          "showTitle": false,
          "inputWidgets": {},
          "nuid": "6d5af4f9-b268-4903-a5a6-1d7ce3c7785f"
        },
        "id": "LR3VPqDqXrhc"
      }
    },
    {
      "cell_type": "markdown",
      "source": [
        "<i>Figura 5: Sintaxis del objeto circle.</i>"
      ],
      "metadata": {
        "application/vnd.databricks.v1+cell": {
          "title": "",
          "showTitle": false,
          "inputWidgets": {},
          "nuid": "0ce6a097-932d-4b15-b800-c33b4846c392"
        },
        "id": "o3Vt_MukXrhc"
      }
    },
    {
      "cell_type": "markdown",
      "source": [
        "El objeto actual se muestra mas adelante. Incluimos el método <code>drawCircle</code> para mostrar la imagen de un circulo. Asignamos el valor de radius en 3 y el color en azul (blue):"
      ],
      "metadata": {
        "application/vnd.databricks.v1+cell": {
          "title": "",
          "showTitle": false,
          "inputWidgets": {},
          "nuid": "4bedef91-0fb8-4de7-bca1-9fdcd305137b"
        },
        "id": "Dysnkff9Xrhc"
      }
    },
    {
      "cell_type": "code",
      "source": [
        "# Crear la clase Circle\n",
        "\n",
        "class Circle(object):\n",
        "\n",
        "    # Constructor\n",
        "    def __init__(self, radius=3, color='blue'):\n",
        "        self.radius = radius\n",
        "        self.color = color\n",
        "\n",
        "    # Method\n",
        "    def add_radius(self, r):\n",
        "        self.radius = self.radius + r\n",
        "        return(self.radius)\n",
        "\n",
        "    # Method\n",
        "    def drawCircle(self):\n",
        "        plt.gca().add_patch(plt.Circle((0, 0), radius=self.radius, fc=self.color))\n",
        "        plt.axis('scaled')\n",
        "        plt.show()"
      ],
      "metadata": {
        "application/vnd.databricks.v1+cell": {
          "title": "",
          "showTitle": false,
          "inputWidgets": {},
          "nuid": "dd58a547-4450-4f8a-879d-32f02921dae3"
        },
        "id": "N5QQ2EBIXrhc"
      },
      "outputs": [],
      "execution_count": null
    },
    {
      "cell_type": "markdown",
      "source": [
        "<h2 id=\"circle\">Crear una instancia de la clase Circulo</h2>"
      ],
      "metadata": {
        "application/vnd.databricks.v1+cell": {
          "title": "",
          "showTitle": false,
          "inputWidgets": {},
          "nuid": "b6e12848-3c4b-482f-bd68-91fdbe51f3d9"
        },
        "id": "3JGPAcySXrhd"
      }
    },
    {
      "cell_type": "markdown",
      "source": [
        "Vamos a crear el objeto <code>RedCircle</code> de tipo Circle para hacer lo siguiente:"
      ],
      "metadata": {
        "application/vnd.databricks.v1+cell": {
          "title": "",
          "showTitle": false,
          "inputWidgets": {},
          "nuid": "c9d75fa2-a312-47b7-b89b-d60ebde77b3f"
        },
        "id": "-XKCus_4Xrhd"
      }
    },
    {
      "cell_type": "code",
      "source": [
        "# Crear un objeto RedCircle\n",
        "\n",
        "RedCircle = Circle(10, 'red')"
      ],
      "metadata": {
        "application/vnd.databricks.v1+cell": {
          "title": "",
          "showTitle": false,
          "inputWidgets": {},
          "nuid": "ac1ddc2e-e928-408f-b8d0-dee94e38974f"
        },
        "id": "3HdoOxpMXrhd"
      },
      "outputs": [],
      "execution_count": null
    },
    {
      "cell_type": "markdown",
      "source": [
        "Podemos usar el comando <code>dir</code> para obtener una lista de los métodos del objeto. Muchos de ellos son métodos por defecto de Python."
      ],
      "metadata": {
        "application/vnd.databricks.v1+cell": {
          "title": "",
          "showTitle": false,
          "inputWidgets": {},
          "nuid": "097af04b-b651-4163-80a0-1ff36e4a3cb2"
        },
        "id": "RfijfbMXXrhd"
      }
    },
    {
      "cell_type": "code",
      "source": [
        "# Obtener los métodos que pueden usarse en el objeto RedCircle\n",
        "\n",
        "dir(RedCircle)"
      ],
      "metadata": {
        "application/vnd.databricks.v1+cell": {
          "title": "",
          "showTitle": false,
          "inputWidgets": {},
          "nuid": "6fb1d76d-c21a-4e27-a51b-f63bda82309f"
        },
        "id": "v2rv5exWXrhd"
      },
      "outputs": [],
      "execution_count": null
    },
    {
      "cell_type": "markdown",
      "source": [
        "Veamos el valor de los atributos del objeto:"
      ],
      "metadata": {
        "application/vnd.databricks.v1+cell": {
          "title": "",
          "showTitle": false,
          "inputWidgets": {},
          "nuid": "09f588a0-72d7-4432-8c00-b8497a5589a6"
        },
        "id": "J_Kee6_CXrhd"
      }
    },
    {
      "cell_type": "code",
      "source": [
        "# Imprime el atributo radius del objeto\n",
        "\n",
        "RedCircle.radius"
      ],
      "metadata": {
        "application/vnd.databricks.v1+cell": {
          "title": "",
          "showTitle": false,
          "inputWidgets": {},
          "nuid": "7d4cd880-62f5-424f-91d3-9ee1ceb3a937"
        },
        "id": "1rumRms7Xrhd"
      },
      "outputs": [],
      "execution_count": null
    },
    {
      "cell_type": "code",
      "source": [
        "# Imprime el atributo color del objeto\n",
        "\n",
        "RedCircle.color"
      ],
      "metadata": {
        "application/vnd.databricks.v1+cell": {
          "title": "",
          "showTitle": false,
          "inputWidgets": {},
          "nuid": "308b4c0d-8d11-4ee6-850a-d564b0df991d"
        },
        "id": "w6xfyFpeXrhd"
      },
      "outputs": [],
      "execution_count": null
    },
    {
      "cell_type": "markdown",
      "source": [
        "Podemos cambiar el valor de los atributos del objeto:"
      ],
      "metadata": {
        "application/vnd.databricks.v1+cell": {
          "title": "",
          "showTitle": false,
          "inputWidgets": {},
          "nuid": "db5bae48-efc3-4630-8068-2be3e1134674"
        },
        "id": "NSzqTUDNXrhe"
      }
    },
    {
      "cell_type": "code",
      "source": [
        "# Asigna un valor al atributo radius\n",
        "\n",
        "RedCircle.radius = 1\n",
        "RedCircle.radius"
      ],
      "metadata": {
        "application/vnd.databricks.v1+cell": {
          "title": "",
          "showTitle": false,
          "inputWidgets": {},
          "nuid": "5d0e601e-2df9-4f04-933c-9a00daca12f2"
        },
        "id": "tQOV3PUEXrhe"
      },
      "outputs": [],
      "execution_count": null
    },
    {
      "cell_type": "markdown",
      "source": [
        "Dibujamos el objeto usando el método <code>drawCircle()</code>:"
      ],
      "metadata": {
        "application/vnd.databricks.v1+cell": {
          "title": "",
          "showTitle": false,
          "inputWidgets": {},
          "nuid": "04aa0f6f-1315-4062-bb2c-2bc9ab4d1b94"
        },
        "id": "q_SrKNUbXrhe"
      }
    },
    {
      "cell_type": "code",
      "source": [
        "# Llamada al método drawCircle\n",
        "\n",
        "RedCircle.drawCircle()"
      ],
      "metadata": {
        "application/vnd.databricks.v1+cell": {
          "title": "",
          "showTitle": false,
          "inputWidgets": {},
          "nuid": "42473fea-2d78-4995-a69a-37e7afa511b3"
        },
        "id": "DrlThp8EXrhe"
      },
      "outputs": [],
      "execution_count": null
    },
    {
      "cell_type": "markdown",
      "source": [
        "Podemos incrementar el radio del circulo utilizando el metodo <code>add_radius()</code>. Incrementémoslo a 2 y después a 5:"
      ],
      "metadata": {
        "application/vnd.databricks.v1+cell": {
          "title": "",
          "showTitle": false,
          "inputWidgets": {},
          "nuid": "2a28904e-fd62-427a-9e83-0b13d3f919c1"
        },
        "id": "AqTtKkVNXrhe"
      }
    },
    {
      "cell_type": "code",
      "source": [
        "# Usar el método para modificar el atributo radius\n",
        "\n",
        "print('Radius of object:',RedCircle.radius)\n",
        "RedCircle.add_radius(2)\n",
        "print('Radius of object of after applying the method add_radius(2):',RedCircle.radius)\n",
        "RedCircle.add_radius(5)\n",
        "print('Radius of object of after applying the method add_radius(5):',RedCircle.radius)"
      ],
      "metadata": {
        "application/vnd.databricks.v1+cell": {
          "title": "",
          "showTitle": false,
          "inputWidgets": {},
          "nuid": "99b2cdc8-762a-4588-9312-a6ceda9064bf"
        },
        "id": "Duxf4_XkXrhe"
      },
      "outputs": [],
      "execution_count": null
    },
    {
      "cell_type": "markdown",
      "source": [
        "Vamos a crear un circulo azul. Su color por defecto será azul (blue), solo debemos especificar el valor que queremos darle al radio:"
      ],
      "metadata": {
        "application/vnd.databricks.v1+cell": {
          "title": "",
          "showTitle": false,
          "inputWidgets": {},
          "nuid": "dae3eaef-46a4-4901-b8f6-ac7d5fec26ec"
        },
        "id": "h4mvzDucXrhe"
      }
    },
    {
      "cell_type": "code",
      "source": [
        "# Crear un círculo azul con un radio especifico\n",
        "\n",
        "BlueCircle = Circle(radius=100)"
      ],
      "metadata": {
        "application/vnd.databricks.v1+cell": {
          "title": "",
          "showTitle": false,
          "inputWidgets": {},
          "nuid": "81ca4694-8612-4dd4-ac5f-8b02973d9204"
        },
        "id": "kOfVN2XeXrhf"
      },
      "outputs": [],
      "execution_count": null
    },
    {
      "cell_type": "markdown",
      "source": [
        "Al igual que antes, también podemos acceder los atributos de una instancia al usar el punto ( . ):"
      ],
      "metadata": {
        "application/vnd.databricks.v1+cell": {
          "title": "",
          "showTitle": false,
          "inputWidgets": {},
          "nuid": "089ed530-c1cb-4024-90fc-3817242dd330"
        },
        "id": "457QiWKIXrhf"
      }
    },
    {
      "cell_type": "code",
      "source": [
        "# Imprimir el atributo radius del objeto\n",
        "\n",
        "BlueCircle.radius"
      ],
      "metadata": {
        "application/vnd.databricks.v1+cell": {
          "title": "",
          "showTitle": false,
          "inputWidgets": {},
          "nuid": "514c8982-b907-4639-ac86-b9aef5667818"
        },
        "id": "UJ6QLjc_Xrhf"
      },
      "outputs": [],
      "execution_count": null
    },
    {
      "cell_type": "code",
      "source": [
        "# Imprimir el atributo color del objeto\n",
        "\n",
        "BlueCircle.color"
      ],
      "metadata": {
        "application/vnd.databricks.v1+cell": {
          "title": "",
          "showTitle": false,
          "inputWidgets": {},
          "nuid": "8b15ba5c-2984-4332-bf90-ce4584a0b010"
        },
        "id": "I9RlhnUTXrhf"
      },
      "outputs": [],
      "execution_count": null
    },
    {
      "cell_type": "markdown",
      "source": [
        "Podemos dibujar el objeto utilizando el método <code>drawCircle()</code>:"
      ],
      "metadata": {
        "application/vnd.databricks.v1+cell": {
          "title": "",
          "showTitle": false,
          "inputWidgets": {},
          "nuid": "84f5058b-965f-46c2-8ad2-d37e6bfb9834"
        },
        "id": "4jD8sy_JXrhf"
      }
    },
    {
      "cell_type": "code",
      "source": [
        "# Llamada al método drawCircle\n",
        "\n",
        "BlueCircle.drawCircle()"
      ],
      "metadata": {
        "application/vnd.databricks.v1+cell": {
          "title": "",
          "showTitle": false,
          "inputWidgets": {},
          "nuid": "d09bec22-caf1-447f-b146-2e0a24d97fdf"
        },
        "id": "LYG9xBaOXrhf"
      },
      "outputs": [],
      "execution_count": null
    },
    {
      "cell_type": "markdown",
      "source": [
        "Compara el eje “x” y “y” de la figura <code>RedCircle</code>; veras que son distintos."
      ],
      "metadata": {
        "application/vnd.databricks.v1+cell": {
          "title": "",
          "showTitle": false,
          "inputWidgets": {},
          "nuid": "bc525b7a-6c9e-4d4e-b31b-57868ff42b30"
        },
        "id": "4msbcgLrXrhf"
      }
    },
    {
      "cell_type": "markdown",
      "source": [
        "<h2 id=\"rect\">La Clase Rectángulo</h2>"
      ],
      "metadata": {
        "application/vnd.databricks.v1+cell": {
          "title": "",
          "showTitle": false,
          "inputWidgets": {},
          "nuid": "35376e68-5ca2-4736-b6db-e0ee6d9cbd48"
        },
        "id": "iTbVaioXXrhf"
      }
    },
    {
      "cell_type": "markdown",
      "source": [
        "Vamos a crear una clase rectángulo con los atributos height (altura) y color. Solo añadiremos el método para dibujar un rectángulo:"
      ],
      "metadata": {
        "application/vnd.databricks.v1+cell": {
          "title": "",
          "showTitle": false,
          "inputWidgets": {},
          "nuid": "f482905f-9332-425e-bcd9-f924195215d8"
        },
        "id": "YOwm-jkRXrhf"
      }
    },
    {
      "cell_type": "code",
      "source": [
        "# Crear una nueva clase Rectangle para construir un objeto rectangulo\n",
        "\n",
        "class Rectangle(object):\n",
        "\n",
        "    # Constructor\n",
        "    def __init__(self, width=2, height=3, color='r'):\n",
        "        self.height = height\n",
        "        self.width = width\n",
        "        self.color = color\n",
        "\n",
        "    # Method\n",
        "    def drawRectangle(self):\n",
        "        plt.gca().add_patch(plt.Rectangle((0, 0), self.width, self.height ,fc=self.color))\n",
        "        plt.axis('scaled')\n",
        "        plt.show()"
      ],
      "metadata": {
        "collapsed": true,
        "application/vnd.databricks.v1+cell": {
          "title": "",
          "showTitle": false,
          "inputWidgets": {},
          "nuid": "245a0f31-bf8d-40fd-a647-d1ae988f55e6"
        },
        "id": "fVptjxPPXrhf"
      },
      "outputs": [],
      "execution_count": null
    },
    {
      "cell_type": "markdown",
      "source": [
        "Creamos el objeto <code>SkinnyBlueRectangle</code> de tipo Rectangle. Su anchura (width) será de 2 y la altura (height) de 3, será de color azul:"
      ],
      "metadata": {
        "application/vnd.databricks.v1+cell": {
          "title": "",
          "showTitle": false,
          "inputWidgets": {},
          "nuid": "b42b0b1d-d10b-42a0-a490-892af6a592e2"
        },
        "id": "2xiOJicEXrhg"
      }
    },
    {
      "cell_type": "code",
      "source": [
        "# Crear un nuevo objeto rectangle\n",
        "\n",
        "SkinnyBlueRectangle = Rectangle(2, 10, 'blue')"
      ],
      "metadata": {
        "application/vnd.databricks.v1+cell": {
          "title": "",
          "showTitle": false,
          "inputWidgets": {},
          "nuid": "f085297a-766c-4db7-8ce2-796be0e1bf24"
        },
        "id": "pLIW3crqXrhg"
      },
      "outputs": [],
      "execution_count": null
    },
    {
      "cell_type": "markdown",
      "source": [
        "Al igual que antes, también podemos acceder los atributos de una instancia al usar el punto ( . ):"
      ],
      "metadata": {
        "application/vnd.databricks.v1+cell": {
          "title": "",
          "showTitle": false,
          "inputWidgets": {},
          "nuid": "d3200ec8-9065-4d78-878f-7637011811d5"
        },
        "id": "wa1_RFfMXrhg"
      }
    },
    {
      "cell_type": "code",
      "source": [
        "# Imprimir el atributo height (altura en inglés) del objeto\n",
        "\n",
        "SkinnyBlueRectangle.height"
      ],
      "metadata": {
        "application/vnd.databricks.v1+cell": {
          "title": "",
          "showTitle": false,
          "inputWidgets": {},
          "nuid": "cc8d1ddd-a350-4072-a9e8-358ca517fc13"
        },
        "id": "9cFAAy6_Xrhg"
      },
      "outputs": [],
      "execution_count": null
    },
    {
      "cell_type": "code",
      "source": [
        "# Imprimir el atributo width (anchura en inglés) del objeto\n",
        "\n",
        "SkinnyBlueRectangle.width"
      ],
      "metadata": {
        "application/vnd.databricks.v1+cell": {
          "title": "",
          "showTitle": false,
          "inputWidgets": {},
          "nuid": "9ba105bf-c2f6-4089-a843-18bca77137fb"
        },
        "id": "QAOVLtVKXrhg"
      },
      "outputs": [],
      "execution_count": null
    },
    {
      "cell_type": "code",
      "source": [
        "# Imprimir el atributo color del objeto\n",
        "\n",
        "SkinnyBlueRectangle.color"
      ],
      "metadata": {
        "application/vnd.databricks.v1+cell": {
          "title": "",
          "showTitle": false,
          "inputWidgets": {},
          "nuid": "5e53cc65-f1d3-4adf-8c81-4cf6b1743ed3"
        },
        "id": "DiSY1LjbXrhg"
      },
      "outputs": [],
      "execution_count": null
    },
    {
      "cell_type": "markdown",
      "source": [
        "Podemos dibujar el objeto:"
      ],
      "metadata": {
        "application/vnd.databricks.v1+cell": {
          "title": "",
          "showTitle": false,
          "inputWidgets": {},
          "nuid": "c66efe18-ff14-42d1-9fcc-f9808a5ce6a1"
        },
        "id": "pF4QCbxdXrhg"
      }
    },
    {
      "cell_type": "code",
      "source": [
        "# Usar el método drawRectangle para dibujar la figura\n",
        "\n",
        "SkinnyBlueRectangle.drawRectangle()"
      ],
      "metadata": {
        "scrolled": true,
        "application/vnd.databricks.v1+cell": {
          "title": "",
          "showTitle": false,
          "inputWidgets": {},
          "nuid": "37e70a22-9e9d-4157-95a7-27bb3ec9ba52"
        },
        "id": "ZzSJdWyyXrhg"
      },
      "outputs": [],
      "execution_count": null
    },
    {
      "cell_type": "markdown",
      "source": [
        "Vamos a crear el objeto <code>FatYellowRectangle</code del tipo Rectangle:"
      ],
      "metadata": {
        "application/vnd.databricks.v1+cell": {
          "title": "",
          "showTitle": false,
          "inputWidgets": {},
          "nuid": "eb681673-01d5-4086-95b3-535dfe33a1fd"
        },
        "id": "8qkRO3zjXrhh"
      }
    },
    {
      "cell_type": "code",
      "source": [
        "# Crear un nuevo objeto rectangle\n",
        "\n",
        "FatYellowRectangle = Rectangle(20, 5, 'yellow')"
      ],
      "metadata": {
        "collapsed": true,
        "application/vnd.databricks.v1+cell": {
          "title": "",
          "showTitle": false,
          "inputWidgets": {},
          "nuid": "934d0401-2af3-4eaf-b38f-5f09c0209a98"
        },
        "id": "WT7gqLjdXrhh"
      },
      "outputs": [],
      "execution_count": null
    },
    {
      "cell_type": "markdown",
      "source": [
        "We can access the attributes of the instance of the class by using the dot notation:"
      ],
      "metadata": {
        "application/vnd.databricks.v1+cell": {
          "title": "",
          "showTitle": false,
          "inputWidgets": {},
          "nuid": "0371cc1d-6135-48e7-a251-905f8e53cac4"
        },
        "id": "Dxv5rzf-Xrhh"
      }
    },
    {
      "cell_type": "code",
      "source": [
        "# Imprimir el atributo height (altura en inglés) del objeto\n",
        "\n",
        "FatYellowRectangle.height"
      ],
      "metadata": {
        "application/vnd.databricks.v1+cell": {
          "title": "",
          "showTitle": false,
          "inputWidgets": {},
          "nuid": "c61da318-d6ab-4e90-b750-d7e3f2f25696"
        },
        "id": "QEd1MfVzXrhh"
      },
      "outputs": [],
      "execution_count": null
    },
    {
      "cell_type": "code",
      "source": [
        "# Imprimir el atributo width (anchura en inglés) del objeto\n",
        "\n",
        "FatYellowRectangle.width"
      ],
      "metadata": {
        "application/vnd.databricks.v1+cell": {
          "title": "",
          "showTitle": false,
          "inputWidgets": {},
          "nuid": "4a199837-3d96-4757-816c-eb8f618ea7e2"
        },
        "id": "QFh1MsKXXrhh"
      },
      "outputs": [],
      "execution_count": null
    },
    {
      "cell_type": "code",
      "source": [
        "# Imprimir el atributo color del objeto\n",
        "\n",
        "FatYellowRectangle.color"
      ],
      "metadata": {
        "application/vnd.databricks.v1+cell": {
          "title": "",
          "showTitle": false,
          "inputWidgets": {},
          "nuid": "dad42886-e367-400a-8fc2-aed0219ac407"
        },
        "id": "i7NyuMb9Xrhh"
      },
      "outputs": [],
      "execution_count": null
    },
    {
      "cell_type": "markdown",
      "source": [
        "Podemos dibujar el objeto:"
      ],
      "metadata": {
        "application/vnd.databricks.v1+cell": {
          "title": "",
          "showTitle": false,
          "inputWidgets": {},
          "nuid": "6351e31b-53f3-4882-bf2d-796d4d0d30d3"
        },
        "id": "jQwOj2mAXrhh"
      }
    },
    {
      "cell_type": "code",
      "source": [
        "# Usar el método drawRectangle para dibujar la figura\n",
        "\n",
        "FatYellowRectangle.drawRectangle()"
      ],
      "metadata": {
        "application/vnd.databricks.v1+cell": {
          "title": "",
          "showTitle": false,
          "inputWidgets": {},
          "nuid": "fd5ca1c5-9600-4284-9f25-aa9a13d07650"
        },
        "id": "ePEuWFjhXrhh"
      },
      "outputs": [],
      "execution_count": null
    }
  ],
  "metadata": {
    "kernelspec": {
      "display_name": "Python 3",
      "language": "python",
      "name": "python3"
    },
    "language_info": {
      "mimetype": "text/x-python",
      "name": "python",
      "pygments_lexer": "ipython3",
      "codemirror_mode": {
        "name": "ipython",
        "version": 3
      },
      "version": "3.7.7",
      "nbconvert_exporter": "python",
      "file_extension": ".py"
    },
    "application/vnd.databricks.v1+notebook": {
      "notebookName": "09-Python-Clases",
      "dashboards": [],
      "notebookMetadata": {
        "pythonIndentUnit": 2
      },
      "language": "python",
      "widgets": {},
      "notebookOrigID": 3296315911139123
    },
    "colab": {
      "provenance": []
    }
  },
  "nbformat": 4,
  "nbformat_minor": 0
}