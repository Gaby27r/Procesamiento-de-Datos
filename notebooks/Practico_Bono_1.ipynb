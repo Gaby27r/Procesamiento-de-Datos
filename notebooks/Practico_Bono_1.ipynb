{
  "cells": [
    {
      "cell_type": "markdown",
      "metadata": {
        "id": "dkfTfb7kKfO8"
      },
      "source": [
        "## CALENTAMIENTO:"
      ]
    },
    {
      "cell_type": "markdown",
      "source": [
        "- **ID:** NB-10\n",
        "- **Autor/a:** Gabriela Rojas Martínez\n",
        "- **Curso/Grupo:** Procesamiento de Datos\n",
        "- **Fecha:** 2025-08-11\n",
        "- **Descripción:** Ejercicios extra de integración para reforzar los temas de cadenas, tuplas, listas, conjuntos, diccionarios, condiciones, bucles, funciones y clases.\n",
        "- **Cómo ejecutar:** Activar entorno, instalar dependencias (`pip install -r requirements.txt`), abrir en Jupyter y ejecutar celdas en orden.\n"
      ],
      "metadata": {
        "id": "NQ_oI9V-X2HS"
      }
    },
    {
      "cell_type": "markdown",
      "source": [
        "## Ejecución de actividades\n",
        "1. Abrir este cuaderno en Jupyter Notebook o Google Colab.\n",
        "2. Ejecutar las celdas en orden.\n",
        "3. Analizar los ejercicios integradores.\n",
        "\n",
        "## Instrucciones y algoritmo\n",
        "\n",
        "**Instrucciones:**\n",
        "- Reforzar todos los conceptos aprendidos en los cuadernos anteriores.\n",
        "\n",
        "**Algoritmo:**\n",
        "1. Crear y manipular cadenas, tuplas, listas, conjuntos y diccionarios.\n",
        "2. Aplicar condiciones y bucles en la solución de problemas.\n",
        "3. Definir funciones y clases para organizar el código.\n",
        "4. Probar los resultados y documentar las salidas.\n"
      ],
      "metadata": {
        "id": "FNc2HMludnH2"
      }
    },
    {
      "cell_type": "markdown",
      "metadata": {
        "id": "jKNiFouRKfO8"
      },
      "source": [
        "#### MENOR DE DOS PARES: Escriba una función que devuelva el menor de dos números dados *si* ambos números son pares, pero devuelva el mayor si uno o ambos números son impares\n",
        "    lesser_of_two_evens(2,4) --> 2\n",
        "    lesser_of_two_evens(2,5) --> 5"
      ]
    },
    {
      "cell_type": "code",
      "execution_count": 1,
      "metadata": {
        "id": "HF8_a_2IKfO8",
        "colab": {
          "base_uri": "https://localhost:8080/"
        },
        "outputId": "5ea11bcc-c738-48cf-e606-cadd92d2ec8f"
      },
      "outputs": [
        {
          "output_type": "stream",
          "name": "stdout",
          "text": [
            "2\n",
            "5\n"
          ]
        }
      ],
      "source": [
        "def lesser_of_two_evens(a,b):\n",
        "  return min(a, b) if (a % 2 == 0 and b % 2 == 0) else max(a, b)\n",
        "\n",
        "print(lesser_of_two_evens(2,4))  # -> 2\n",
        "print(lesser_of_two_evens(2,5))  # -> 5\n",
        "# 1. Lógica: Si ambos son pares → menor; si no → mayor.\n",
        "# 2. Paridad: uso del %2 para saber si son pares.\n",
        "# 3. Resultado: 2 y 5 para los casos de prueba.\n",
        "\n"
      ]
    },
    {
      "cell_type": "code",
      "execution_count": 2,
      "metadata": {
        "id": "fOv0K9mXKfO9",
        "outputId": "ea6cf5b7-51ee-4c99-ed46-d81cb02a2320",
        "colab": {
          "base_uri": "https://localhost:8080/"
        }
      },
      "outputs": [
        {
          "output_type": "execute_result",
          "data": {
            "text/plain": [
              "2"
            ]
          },
          "metadata": {},
          "execution_count": 2
        }
      ],
      "source": [
        "# Revisión\n",
        "lesser_of_two_evens(2,4)"
      ]
    },
    {
      "cell_type": "code",
      "execution_count": 3,
      "metadata": {
        "id": "UMKYl4NgKfO-",
        "outputId": "f33dfca2-df7f-49ce-8f3a-ae984ddeeb8e",
        "colab": {
          "base_uri": "https://localhost:8080/"
        }
      },
      "outputs": [
        {
          "output_type": "execute_result",
          "data": {
            "text/plain": [
              "5"
            ]
          },
          "metadata": {},
          "execution_count": 3
        }
      ],
      "source": [
        "# Revisión\n",
        "lesser_of_two_evens(2,5)"
      ]
    },
    {
      "cell_type": "markdown",
      "metadata": {
        "id": "ZdEE37WBKfO-"
      },
      "source": [
        "#### GALLETAS DE ANIMALES: Escribir una función que toma una cadena de dos palabras y devuelve True si ambas palabras comienzan con la misma letra\n",
        "    animal_crackers('Ciudad Calor') --> True\n",
        "    animal_crackers('Lugar Frio') --> False"
      ]
    },
    {
      "cell_type": "code",
      "execution_count": 4,
      "metadata": {
        "id": "6JEJK4lcKfO_",
        "colab": {
          "base_uri": "https://localhost:8080/"
        },
        "outputId": "fd6e270d-3213-4bfe-d1a3-470ab182cf68"
      },
      "outputs": [
        {
          "output_type": "stream",
          "name": "stdout",
          "text": [
            "True\n",
            "False\n"
          ]
        }
      ],
      "source": [
        "def animal_crackers(text):\n",
        "    w1, w2 = text.split()\n",
        "    return w1[0].lower() == w2[0].lower()\n",
        "\n",
        "print(animal_crackers('Ciudad Calor'))  # -> True\n",
        "print(animal_crackers('Lugar Frio'))    # -> False\n",
        "# 1. Lógica: Separar en dos palabras.\n",
        "# 2. Comparación: primeras letras en minúscula.\n",
        "# 3. Resultado: True y False según los ejemplos."
      ]
    },
    {
      "cell_type": "code",
      "execution_count": 5,
      "metadata": {
        "id": "RZp5N4-6KfO_",
        "outputId": "bd27fbc0-f6a9-434a-862e-d4ea3ebc839c",
        "colab": {
          "base_uri": "https://localhost:8080/"
        }
      },
      "outputs": [
        {
          "output_type": "execute_result",
          "data": {
            "text/plain": [
              "True"
            ]
          },
          "metadata": {},
          "execution_count": 5
        }
      ],
      "source": [
        "# Revisión\n",
        "animal_crackers('Ciudad Calor')"
      ]
    },
    {
      "cell_type": "code",
      "execution_count": 6,
      "metadata": {
        "id": "zaGYt5L8KfO_",
        "outputId": "06af76e6-7ba7-4ddf-932e-4c937f8a9174",
        "colab": {
          "base_uri": "https://localhost:8080/"
        }
      },
      "outputs": [
        {
          "output_type": "execute_result",
          "data": {
            "text/plain": [
              "False"
            ]
          },
          "metadata": {},
          "execution_count": 6
        }
      ],
      "source": [
        "# Revisión\n",
        "animal_crackers('Lugar Frio')"
      ]
    },
    {
      "cell_type": "markdown",
      "metadata": {
        "id": "Xln0rzZ3KfPA"
      },
      "source": [
        "#### HACE VEINTE: dados dos enteros, devuelve True si la suma de los enteros es 20 o si uno de los enteros es 20. De lo contrario, devuelve False\n",
        "\n",
        "    makes_twenty(20,10) --> True\n",
        "    makes_twenty(12,8) --> True\n",
        "    makes_twenty(2,3) --> False"
      ]
    },
    {
      "cell_type": "code",
      "execution_count": 7,
      "metadata": {
        "id": "wBbR7Xx_KfPA",
        "colab": {
          "base_uri": "https://localhost:8080/"
        },
        "outputId": "d3812997-3379-47e3-88cb-a6e2191dfd5a"
      },
      "outputs": [
        {
          "output_type": "stream",
          "name": "stdout",
          "text": [
            "True\n",
            "False\n",
            "True\n"
          ]
        }
      ],
      "source": [
        "def makes_twenty(n1, n2):\n",
        "    return (n1 + n2 == 20) or (n1 == 20) or (n2 == 20)\n",
        "\n",
        "print(makes_twenty(20,10))  # -> True\n",
        "print(makes_twenty(2,3))    # -> False\n",
        "print(makes_twenty(12,8))   # -> True\n",
        "# 1. Condición: suma 20 o alguno es 20.\n",
        "# 2. Operadores: uso de == y or.\n",
        "# 3. Resultado: True/False como en los checks."
      ]
    },
    {
      "cell_type": "code",
      "execution_count": 9,
      "metadata": {
        "id": "6jHiJxnwKfPA",
        "outputId": "34a05389-a3bd-4082-d158-7b3685a5dbe3",
        "colab": {
          "base_uri": "https://localhost:8080/"
        }
      },
      "outputs": [
        {
          "output_type": "execute_result",
          "data": {
            "text/plain": [
              "True"
            ]
          },
          "metadata": {},
          "execution_count": 9
        }
      ],
      "source": [
        "# Revisión\n",
        "makes_twenty(20,10)"
      ]
    },
    {
      "cell_type": "code",
      "execution_count": 8,
      "metadata": {
        "id": "zZIdlGLeKfPA",
        "outputId": "250556af-1681-4246-c568-b5eb50452a11",
        "colab": {
          "base_uri": "https://localhost:8080/"
        }
      },
      "outputs": [
        {
          "output_type": "execute_result",
          "data": {
            "text/plain": [
              "False"
            ]
          },
          "metadata": {},
          "execution_count": 8
        }
      ],
      "source": [
        "# Revisión\n",
        "makes_twenty(2,3)"
      ]
    },
    {
      "cell_type": "code",
      "execution_count": 10,
      "metadata": {
        "id": "BlJKTZX9KfPA",
        "outputId": "ff0175d6-040f-472b-b706-25ca85703042",
        "colab": {
          "base_uri": "https://localhost:8080/"
        }
      },
      "outputs": [
        {
          "output_type": "execute_result",
          "data": {
            "text/plain": [
              "True"
            ]
          },
          "metadata": {},
          "execution_count": 10
        }
      ],
      "source": [
        "makes_twenty(12,8)"
      ]
    },
    {
      "cell_type": "markdown",
      "metadata": {
        "id": "d3Fka2vRKfPB"
      },
      "source": [
        "# Nivel 1"
      ]
    },
    {
      "cell_type": "markdown",
      "metadata": {
        "id": "H_e_DMbnKfPB"
      },
      "source": [
        "#### MAYÚSCULAS: Escribir una función que haga mayúscula la primera y cuarta letra de una cadena de texto\n",
        "     \n",
        "    old_macdonald('macdonald') --> MacDonald\n",
        "    \n",
        "Note: `'macdonald'.capitalize()` returns `'Macdonald'`"
      ]
    },
    {
      "cell_type": "code",
      "execution_count": 11,
      "metadata": {
        "id": "ZiXJrY8uKfPB",
        "colab": {
          "base_uri": "https://localhost:8080/"
        },
        "outputId": "5fe939b3-f0b1-4b70-b443-aca0df408061"
      },
      "outputs": [
        {
          "output_type": "stream",
          "name": "stdout",
          "text": [
            "MacDonald\n"
          ]
        }
      ],
      "source": [
        "def old_macdonald(name):\n",
        "    if len(name) < 4:\n",
        "        return name.capitalize()\n",
        "    return name[0].upper() + name[1:3] + name[3].upper() + name[4:]\n",
        "\n",
        "print(old_macdonald('macdonald'))  # -> 'MacDonald'\n",
        "# 1. Lógica: mayúsculas en índice 0 y 3.\n",
        "# 2. Caso corto: si <4, solo capitaliza inicio.\n",
        "# 3. Resultado: 'MacDonald' como pide el enunciado."
      ]
    },
    {
      "cell_type": "code",
      "execution_count": 12,
      "metadata": {
        "id": "wtu_baYIKfPB",
        "outputId": "216bc168-2f6a-4193-fbaa-79d18d4b26b8",
        "colab": {
          "base_uri": "https://localhost:8080/",
          "height": 36
        }
      },
      "outputs": [
        {
          "output_type": "execute_result",
          "data": {
            "text/plain": [
              "'MacDonald'"
            ],
            "application/vnd.google.colaboratory.intrinsic+json": {
              "type": "string"
            }
          },
          "metadata": {},
          "execution_count": 12
        }
      ],
      "source": [
        "# Check\n",
        "old_macdonald('macdonald')"
      ]
    },
    {
      "cell_type": "markdown",
      "metadata": {
        "id": "E24LlJo1KfPC"
      },
      "source": [
        "#### REVERSA: Dada una oración, retornar la misma oración pero en reversa\n",
        "\n",
        "    master_yoda('I am home') --> 'home am I'\n",
        "    master_yoda('We are ready') --> 'ready are We'\n",
        "    \n",
        "Note: Revisar método .join()\n",
        "\n",
        "    >>> \"--\".join(['a','b','c'])\n",
        "    >>> 'a--b--c'\n",
        "\n",
        "Resultado de .join():\n",
        "\n",
        "    >>> \" \".join(['Hello','world'])\n",
        "    >>> \"Hello world\""
      ]
    },
    {
      "cell_type": "code",
      "execution_count": 13,
      "metadata": {
        "id": "6K4nw15nKfPC",
        "colab": {
          "base_uri": "https://localhost:8080/"
        },
        "outputId": "1a913491-73e0-4727-f2fc-9f920f6aa9d2"
      },
      "outputs": [
        {
          "output_type": "stream",
          "name": "stdout",
          "text": [
            "home am I\n",
            "ready are We\n"
          ]
        }
      ],
      "source": [
        "def master_yoda(text):\n",
        "    return \" \".join(text.split()[::-1])\n",
        "\n",
        "print(master_yoda('I am home'))   # -> 'home am I'\n",
        "print(master_yoda('We are ready'))# -> 'ready are We'\n",
        "# 1. Acción: dividir en palabras y reversar.\n",
        "# 2. Unión: volver a string con join.\n",
        "# 3. Resultado: oraciones invertidas."
      ]
    },
    {
      "cell_type": "code",
      "execution_count": 17,
      "metadata": {
        "id": "2DqSErszKfPD",
        "outputId": "81152174-86b5-41ea-b602-af431356ab96",
        "colab": {
          "base_uri": "https://localhost:8080/",
          "height": 36
        }
      },
      "outputs": [
        {
          "output_type": "execute_result",
          "data": {
            "text/plain": [
              "'home am I'"
            ],
            "application/vnd.google.colaboratory.intrinsic+json": {
              "type": "string"
            }
          },
          "metadata": {},
          "execution_count": 17
        }
      ],
      "source": [
        "# Revisión\n",
        "master_yoda('I am home')"
      ]
    },
    {
      "cell_type": "code",
      "execution_count": 18,
      "metadata": {
        "id": "efa9vdLSKfPD",
        "outputId": "1e0d7f97-d5cc-4a39-8a61-96917b26b09b",
        "colab": {
          "base_uri": "https://localhost:8080/",
          "height": 36
        }
      },
      "outputs": [
        {
          "output_type": "execute_result",
          "data": {
            "text/plain": [
              "'ready are We'"
            ],
            "application/vnd.google.colaboratory.intrinsic+json": {
              "type": "string"
            }
          },
          "metadata": {},
          "execution_count": 18
        }
      ],
      "source": [
        "# Revisión\n",
        "master_yoda('We are ready')"
      ]
    },
    {
      "cell_type": "markdown",
      "metadata": {
        "id": "9jquqRm7KfPE"
      },
      "source": [
        "# Nivel 2"
      ]
    },
    {
      "cell_type": "markdown",
      "metadata": {
        "id": "S5V3SVDGKfPE"
      },
      "source": [
        "#### PROBLEMA 33:\n",
        "\n",
        "Dada una lista de enteros, retornar True si el arreglo tinene un  3  seguido por un  3 .\n",
        "\n",
        "    has_33([1, 3, 3]) → True\n",
        "    has_33([1, 3, 1, 3]) → False\n",
        "    has_33([3, 1, 3]) → False"
      ]
    },
    {
      "cell_type": "code",
      "execution_count": 19,
      "metadata": {
        "id": "9eU2-UZvKfPE",
        "colab": {
          "base_uri": "https://localhost:8080/"
        },
        "outputId": "f512a081-f671-4c12-9cfe-ef1264db3bf8"
      },
      "outputs": [
        {
          "output_type": "stream",
          "name": "stdout",
          "text": [
            "True\n",
            "False\n",
            "False\n"
          ]
        }
      ],
      "source": [
        "def has_33(nums):\n",
        "    for i in range(len(nums) - 1):\n",
        "        if nums[i] == 3 and nums[i+1] == 3:\n",
        "            return True\n",
        "    return False\n",
        "\n",
        "print(has_33([1,3,3]))      # -> True\n",
        "print(has_33([1,3,1,3]))    # -> False\n",
        "print(has_33([3,1,3]))      # -> False\n",
        "# 1. Recorrido: revisar pares adyacentes.\n",
        "# 2. Condición: nums[i]==3 y nums[i+1]==3.\n",
        "# 3. Resultado: True/False según ejemplos."
      ]
    },
    {
      "cell_type": "code",
      "execution_count": 20,
      "metadata": {
        "id": "Yca9X7MAKfPE",
        "outputId": "c09d633b-64de-4470-fbc2-00d8f8212b9d",
        "colab": {
          "base_uri": "https://localhost:8080/"
        }
      },
      "outputs": [
        {
          "output_type": "execute_result",
          "data": {
            "text/plain": [
              "True"
            ]
          },
          "metadata": {},
          "execution_count": 20
        }
      ],
      "source": [
        "# Revisión\n",
        "has_33([1, 3, 3])"
      ]
    },
    {
      "cell_type": "code",
      "execution_count": 21,
      "metadata": {
        "id": "XSw1ml9dKfPE",
        "outputId": "119b7a31-7cc6-4a4c-db5a-0fe9b8be4470",
        "colab": {
          "base_uri": "https://localhost:8080/"
        }
      },
      "outputs": [
        {
          "output_type": "execute_result",
          "data": {
            "text/plain": [
              "False"
            ]
          },
          "metadata": {},
          "execution_count": 21
        }
      ],
      "source": [
        "# Revisión\n",
        "has_33([1, 3, 1, 3])"
      ]
    },
    {
      "cell_type": "code",
      "execution_count": 22,
      "metadata": {
        "id": "ZKcJgxc5KfPF",
        "outputId": "08e5c9ce-2fc0-453e-8b26-f32e6555d0e2",
        "colab": {
          "base_uri": "https://localhost:8080/"
        }
      },
      "outputs": [
        {
          "output_type": "execute_result",
          "data": {
            "text/plain": [
              "False"
            ]
          },
          "metadata": {},
          "execution_count": 22
        }
      ],
      "source": [
        "# Revisión\n",
        "has_33([3, 1, 3])"
      ]
    },
    {
      "cell_type": "markdown",
      "metadata": {
        "id": "n-Vj63BpKfPF"
      },
      "source": [
        "#### REPLICADOR: Dada una cadena, devuelve una cadena donde por cada carácter en el original hay tres caracteres REPETIDOS\n",
        "    paper_doll('Hello') --> 'HHHeeellllllooo'\n",
        "    paper_doll('Mississippi') --> 'MMMiiissssssiiippppppiii'"
      ]
    },
    {
      "cell_type": "code",
      "execution_count": 23,
      "metadata": {
        "id": "F6ivbyiXKfPF",
        "colab": {
          "base_uri": "https://localhost:8080/"
        },
        "outputId": "fc759687-4ce3-4da2-a0b1-1d9ecf387f4f"
      },
      "outputs": [
        {
          "output_type": "stream",
          "name": "stdout",
          "text": [
            "HHHeeellllllooo\n",
            "MMMiiissssssiiissssssiiippppppiii\n"
          ]
        }
      ],
      "source": [
        "# 7) PAPER DOLL (triplicar cada carácter)\n",
        "def paper_doll(text):\n",
        "    return \"\".join(ch * 3 for ch in text)\n",
        "\n",
        "print(paper_doll('Hello'))       # -> 'HHHeeellllllooo'\n",
        "print(paper_doll('Mississippi')) # -> 'MMMiiissssssiiissssssiiippppppiii'\n",
        "# 1. Lógica: repetir cada char 3 veces.\n",
        "# 2. Generador: ch*3 dentro de join().\n",
        "# 3. Resultado: cadenas triplicadas."
      ]
    },
    {
      "cell_type": "code",
      "execution_count": 25,
      "metadata": {
        "id": "h330yUbKKfPF",
        "outputId": "f717d998-6652-41bf-d96b-6cd93cad0d47",
        "colab": {
          "base_uri": "https://localhost:8080/",
          "height": 36
        }
      },
      "outputs": [
        {
          "output_type": "execute_result",
          "data": {
            "text/plain": [
              "'HHHeeellllllooo'"
            ],
            "application/vnd.google.colaboratory.intrinsic+json": {
              "type": "string"
            }
          },
          "metadata": {},
          "execution_count": 25
        }
      ],
      "source": [
        "# Check\n",
        "paper_doll('Hello')"
      ]
    },
    {
      "cell_type": "code",
      "execution_count": 24,
      "metadata": {
        "id": "sZTw8FlZKfPF",
        "outputId": "64501cd2-c29c-405a-dab6-2719840d3285",
        "colab": {
          "base_uri": "https://localhost:8080/",
          "height": 36
        }
      },
      "outputs": [
        {
          "output_type": "execute_result",
          "data": {
            "text/plain": [
              "'MMMiiissssssiiissssssiiippppppiii'"
            ],
            "application/vnd.google.colaboratory.intrinsic+json": {
              "type": "string"
            }
          },
          "metadata": {},
          "execution_count": 24
        }
      ],
      "source": [
        "# Check\n",
        "paper_doll('Mississippi')"
      ]
    },
    {
      "cell_type": "markdown",
      "metadata": {
        "id": "OJfMlQRcKfPF"
      },
      "source": [
        "#### BLACKJACK: Dados tres enteros entre 1 y 11, si su suma es menor o igual a 21, devuelve su suma. Si su suma excede 21 *y* hay un once, reduce la suma total en 10. Finalmente, si la suma (incluso después del ajuste) excede 21, devuelve 'BUST'\n",
        "    blackjack(5,6,7) --> 18\n",
        "    blackjack(9,9,9) --> 'BUST'\n",
        "    blackjack(9,9,11) --> 19"
      ]
    },
    {
      "cell_type": "code",
      "execution_count": 26,
      "metadata": {
        "id": "REJRcYJmKfPF",
        "colab": {
          "base_uri": "https://localhost:8080/"
        },
        "outputId": "e5cbd921-5ff8-418f-dd0e-6a3818b51b17"
      },
      "outputs": [
        {
          "output_type": "stream",
          "name": "stdout",
          "text": [
            "18\n",
            "BUST\n",
            "19\n"
          ]
        }
      ],
      "source": [
        "# Dados tres enteros entre 1 y 11:\n",
        "# - Si la suma <= 21, retorna la suma.\n",
        "# - Si la suma > 21 y hay un 11, resta 10 y reevalúa.\n",
        "# - Si aún > 21, retorna 'BUST'.\n",
        "\n",
        "def blackjack(a, b, c):\n",
        "    s = a + b + c\n",
        "    if s <= 21:\n",
        "        return s\n",
        "    if 11 in (a, b, c) and s - 10 <= 21:\n",
        "        return s - 10\n",
        "    return 'BUST'\n",
        "\n",
        "print(blackjack(5,6,7))   # -> 18\n",
        "print(blackjack(9,9,9))   # -> 'BUST'\n",
        "print(blackjack(9,9,11))  # -> 19\n",
        "\n",
        "# 1. Suma: evaluar contra 21.\n",
        "# 2. Ajuste: si hay 11, restar 10 una vez.\n",
        "# 3. Resultado: 18, 'BUST', 19 como en la guía."
      ]
    },
    {
      "cell_type": "code",
      "execution_count": 27,
      "metadata": {
        "id": "D_sHnddYKfPF",
        "outputId": "01db5077-32f1-4b9b-fa46-9cb0f93cbcd9",
        "colab": {
          "base_uri": "https://localhost:8080/"
        }
      },
      "outputs": [
        {
          "output_type": "execute_result",
          "data": {
            "text/plain": [
              "18"
            ]
          },
          "metadata": {},
          "execution_count": 27
        }
      ],
      "source": [
        "# Revisión\n",
        "blackjack(5,6,7)"
      ]
    },
    {
      "cell_type": "code",
      "execution_count": 28,
      "metadata": {
        "id": "y0713b36KfPF",
        "outputId": "1941b0ff-4859-44c6-f4cc-6730c2385d2c",
        "colab": {
          "base_uri": "https://localhost:8080/",
          "height": 36
        }
      },
      "outputs": [
        {
          "output_type": "execute_result",
          "data": {
            "text/plain": [
              "'BUST'"
            ],
            "application/vnd.google.colaboratory.intrinsic+json": {
              "type": "string"
            }
          },
          "metadata": {},
          "execution_count": 28
        }
      ],
      "source": [
        "# Revisión\n",
        "blackjack(9,9,9)"
      ]
    },
    {
      "cell_type": "code",
      "execution_count": 29,
      "metadata": {
        "id": "6eijyrH-KfPG",
        "outputId": "20645ffa-44c5-4e55-b7b0-276b9459e664",
        "colab": {
          "base_uri": "https://localhost:8080/"
        }
      },
      "outputs": [
        {
          "output_type": "execute_result",
          "data": {
            "text/plain": [
              "19"
            ]
          },
          "metadata": {},
          "execution_count": 29
        }
      ],
      "source": [
        "# Revisión\n",
        "blackjack(9,9,11)"
      ]
    },
    {
      "cell_type": "markdown",
      "metadata": {
        "id": "6S22_l6xKfPI"
      },
      "source": [
        "## Suerte!"
      ]
    }
  ],
  "metadata": {
    "kernelspec": {
      "display_name": "Python 3 (ipykernel)",
      "language": "python",
      "name": "python3"
    },
    "language_info": {
      "codemirror_mode": {
        "name": "ipython",
        "version": 3
      },
      "file_extension": ".py",
      "mimetype": "text/x-python",
      "name": "python",
      "nbconvert_exporter": "python",
      "pygments_lexer": "ipython3",
      "version": "3.10.4"
    },
    "colab": {
      "provenance": []
    }
  },
  "nbformat": 4,
  "nbformat_minor": 0
}